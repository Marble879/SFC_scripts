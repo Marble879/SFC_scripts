{
 "cells": [
  {
   "cell_type": "code",
   "execution_count": 6,
   "metadata": {},
   "outputs": [],
   "source": [
    "# Add, minus, multiply ,divid(not interested since it will not return integer) on csp"
   ]
  },
  {
   "cell_type": "code",
   "execution_count": 7,
   "metadata": {},
   "outputs": [],
   "source": [
    "import pandas as pd\n",
    "import matplotlib.pyplot as plt\n",
    "import numpy as np\n",
    "import morton\n",
    "import math"
   ]
  },
  {
   "cell_type": "code",
   "execution_count": 8,
   "metadata": {},
   "outputs": [],
   "source": [
    "# Declare constants\n",
    "SNOW_FOX_REFERENCE_DATA = 'SnowFox-Roundabout-Dataset/SnowFox-Roundabout-Dataset/reference-roundabout'\n",
    "SNOW_FOX_DATA = 'SnowFox-Roundabout-Dataset/SnowFox-Roundabout-Dataset/data-roundabout'\n",
    "SNOW_FOX_REFERENCE_META_DATA ='SnowFox-Roundabout-Dataset/SnowFox-Roundabout-Dataset/reference-roundabout/reference-roundabout.meta.csv'"
   ]
  },
  {
   "cell_type": "code",
   "execution_count": 9,
   "metadata": {},
   "outputs": [
    {
     "name": "stdout",
     "output_type": "stream",
     "text": [
      "IMULatAcceleration   -1.921\n",
      "dtype: float64\n"
     ]
    }
   ],
   "source": [
    "# Load data\n",
    "# Possible columns: sample_ts;lat;lon;northHeading;groundSpeed;SteeringWhlAngle;IMULatAcceleration;IMULgtAcceleration;IMUVerAcceleration;IMURollRate;IMUYawRate\n",
    "df = pd.read_csv(SNOW_FOX_REFERENCE_META_DATA, sep=';', usecols = ['sample_ts','IMULatAcceleration','IMULgtAcceleration'])\n",
    "# Preprocess of the data\n",
    "df=df.dropna()\n",
    "min_value =df.iloc[:,1:2].min()\n",
    "print(min_value)\n",
    "\n",
    "\n",
    "# Data validation"
   ]
  },
  {
   "cell_type": "code",
   "execution_count": 11,
   "metadata": {},
   "outputs": [
    {
     "ename": "TypeError",
     "evalue": "get_morton() got an unexpected keyword argument 'dimensions'",
     "output_type": "error",
     "traceback": [
      "\u001b[0;31m---------------------------------------------------------------------------\u001b[0m",
      "\u001b[0;31mTypeError\u001b[0m                                 Traceback (most recent call last)",
      "\u001b[0;32m/var/folders/vw/2rgwl_ln6lg75qlwwlw4wzhh0000gn/T/ipykernel_28430/2462150144.py\u001b[0m in \u001b[0;36m<module>\u001b[0;34m\u001b[0m\n\u001b[0;32m----> 1\u001b[0;31m \u001b[0mm\u001b[0m \u001b[0;34m=\u001b[0m \u001b[0mmorton\u001b[0m\u001b[0;34m.\u001b[0m\u001b[0mget_morton\u001b[0m\u001b[0;34m(\u001b[0m\u001b[0mdimensions\u001b[0m\u001b[0;34m=\u001b[0m\u001b[0;36m2\u001b[0m\u001b[0;34m,\u001b[0m \u001b[0mbits\u001b[0m\u001b[0;34m=\u001b[0m\u001b[0;36m64\u001b[0m\u001b[0;34m)\u001b[0m\u001b[0;34m\u001b[0m\u001b[0;34m\u001b[0m\u001b[0m\n\u001b[0m\u001b[1;32m      2\u001b[0m \u001b[0;32mdef\u001b[0m \u001b[0mset_value\u001b[0m\u001b[0;34m(\u001b[0m\u001b[0mdata\u001b[0m\u001b[0;34m,\u001b[0m\u001b[0mkey1\u001b[0m\u001b[0;34m,\u001b[0m\u001b[0mkey2\u001b[0m\u001b[0;34m)\u001b[0m\u001b[0;34m:\u001b[0m\u001b[0;34m\u001b[0m\u001b[0;34m\u001b[0m\u001b[0m\n\u001b[1;32m      3\u001b[0m     \u001b[0;32mreturn\u001b[0m \u001b[0mm\u001b[0m\u001b[0;34m.\u001b[0m\u001b[0mpack\u001b[0m\u001b[0;34m(\u001b[0m\u001b[0mint\u001b[0m\u001b[0;34m(\u001b[0m\u001b[0mdata\u001b[0m\u001b[0;34m[\u001b[0m\u001b[0mkey1\u001b[0m\u001b[0;34m]\u001b[0m\u001b[0;34m)\u001b[0m\u001b[0;34m,\u001b[0m \u001b[0mint\u001b[0m\u001b[0;34m(\u001b[0m\u001b[0mdata\u001b[0m\u001b[0;34m[\u001b[0m\u001b[0mkey2\u001b[0m\u001b[0;34m]\u001b[0m\u001b[0;34m)\u001b[0m\u001b[0;34m)\u001b[0m\u001b[0;34m\u001b[0m\u001b[0;34m\u001b[0m\u001b[0m\n\u001b[1;32m      4\u001b[0m \u001b[0;34m\u001b[0m\u001b[0m\n",
      "\u001b[0;31mTypeError\u001b[0m: get_morton() got an unexpected keyword argument 'dimensions'"
     ]
    }
   ],
   "source": [
    "m = morton.Morton(dimensions=2, bits=64)\n",
    "def set_value(data,key1,key2):    \n",
    "    return m.pack(int(data[key1]), int(data[key2]))\n",
    "\n"
   ]
  },
  {
   "cell_type": "code",
   "execution_count": null,
   "metadata": {},
   "outputs": [
    {
     "ename": "TypeError",
     "evalue": "cannot convert the series to <class 'int'>",
     "output_type": "error",
     "traceback": [
      "\u001b[0;31m---------------------------------------------------------------------------\u001b[0m",
      "\u001b[0;31mTypeError\u001b[0m                                 Traceback (most recent call last)",
      "Cell \u001b[0;32mIn[30], line 8\u001b[0m\n\u001b[1;32m      5\u001b[0m df[\u001b[39m'\u001b[39m\u001b[39mIMULatAcceleration_3\u001b[39m\u001b[39m'\u001b[39m]\u001b[39m=\u001b[39m df[\u001b[39m'\u001b[39m\u001b[39mIMULatAcceleration\u001b[39m\u001b[39m'\u001b[39m]\u001b[39m.\u001b[39madd(offset_3)\n\u001b[1;32m      6\u001b[0m df[\u001b[39m'\u001b[39m\u001b[39mIMULgtAcceleration_3\u001b[39m\u001b[39m'\u001b[39m]\u001b[39m=\u001b[39m df[\u001b[39m'\u001b[39m\u001b[39mIMULgtAcceleration\u001b[39m\u001b[39m'\u001b[39m]\u001b[39m.\u001b[39madd(offset_3)\n\u001b[0;32m----> 8\u001b[0m df[\u001b[39m'\u001b[39m\u001b[39mmorton_offset_2\u001b[39m\u001b[39m'\u001b[39m] \u001b[39m=\u001b[39m set_value(df,\u001b[39m'\u001b[39;49m\u001b[39mIMULatAcceleration_2\u001b[39;49m\u001b[39m'\u001b[39;49m,\u001b[39m'\u001b[39;49m\u001b[39mIMULatAcceleration_2\u001b[39;49m\u001b[39m'\u001b[39;49m)\n\u001b[1;32m      9\u001b[0m df[\u001b[39m'\u001b[39m\u001b[39mmorton_offset_3\u001b[39m\u001b[39m'\u001b[39m] \u001b[39m=\u001b[39m set_value(df,\u001b[39m'\u001b[39m\u001b[39mIMULatAcceleration_3\u001b[39m\u001b[39m'\u001b[39m,\u001b[39m'\u001b[39m\u001b[39mIMULatAcceleration_3\u001b[39m\u001b[39m'\u001b[39m)\n\u001b[1;32m     10\u001b[0m fig, (ax1,ax2) \u001b[39m=\u001b[39m plt\u001b[39m.\u001b[39msubplots(\u001b[39m1\u001b[39m,\u001b[39m2\u001b[39m)\n",
      "Cell \u001b[0;32mIn[29], line 3\u001b[0m, in \u001b[0;36mset_value\u001b[0;34m(data, key1, key2)\u001b[0m\n\u001b[1;32m      2\u001b[0m \u001b[39mdef\u001b[39;00m \u001b[39mset_value\u001b[39m(data,key1,key2):    \n\u001b[0;32m----> 3\u001b[0m     \u001b[39mreturn\u001b[39;00m m\u001b[39m.\u001b[39mpack(\u001b[39mint\u001b[39;49m(data[key1]), \u001b[39mint\u001b[39m(data[key2]))\n",
      "File \u001b[0;32m~/micromamba/envs/sfc/lib/python3.9/site-packages/pandas/core/series.py:206\u001b[0m, in \u001b[0;36m_coerce_method.<locals>.wrapper\u001b[0;34m(self)\u001b[0m\n\u001b[1;32m    204\u001b[0m \u001b[39mif\u001b[39;00m \u001b[39mlen\u001b[39m(\u001b[39mself\u001b[39m) \u001b[39m==\u001b[39m \u001b[39m1\u001b[39m:\n\u001b[1;32m    205\u001b[0m     \u001b[39mreturn\u001b[39;00m converter(\u001b[39mself\u001b[39m\u001b[39m.\u001b[39miloc[\u001b[39m0\u001b[39m])\n\u001b[0;32m--> 206\u001b[0m \u001b[39mraise\u001b[39;00m \u001b[39mTypeError\u001b[39;00m(\u001b[39mf\u001b[39m\u001b[39m\"\u001b[39m\u001b[39mcannot convert the series to \u001b[39m\u001b[39m{\u001b[39;00mconverter\u001b[39m}\u001b[39;00m\u001b[39m\"\u001b[39m)\n",
      "\u001b[0;31mTypeError\u001b[0m: cannot convert the series to <class 'int'>"
     ]
    }
   ],
   "source": [
    "offset_2 = 2\n",
    "offset_3 = 3\n",
    "df['IMULatAcceleration_2']= df['IMULatAcceleration'].add(offset_2)\n",
    "df['IMULatAcceleration_2']= df['IMULgtAcceleration'].add(offset_2)\n",
    "df['IMULatAcceleration_3']= df['IMULatAcceleration'].add(offset_3)\n",
    "df['IMULgtAcceleration_3']= df['IMULgtAcceleration'].add(offset_3)\n",
    "\n",
    "df['morton_offset_2'] = set_value(df,'IMULatAcceleration_2','IMULatAcceleration_2')\n",
    "df['morton_offset_3'] = set_value(df,'IMULatAcceleration_3','IMULatAcceleration_3')\n",
    "fig, (ax1,ax2) = plt.subplots(1,2)\n",
    "ax1 = plt.eventplot(df['morton_offset_2'],orientation='vertical',linewidths=0.1)\n",
    "ax2 = plt.eventplot(df['morton_offset_3'],orientation='vertical',linewidths=0.1)"
   ]
  },
  {
   "cell_type": "code",
   "execution_count": null,
   "metadata": {},
   "outputs": [],
   "source": [
    "offset = math.ceil(abs(min_value[0]))\n",
    "print(offset)\n",
    "multiplier = 10000 # predefined\n",
    "#  Base transformation\n",
    "df['IMULatAcceleration']= df['IMULatAcceleration'].add(offset)\n",
    "df['IMULgtAcceleration']= df['IMULgtAcceleration'].add(offset)\n",
    "df['IMULatAcceleration'] = df['IMULatAcceleration'].multiply(multiplier)\n",
    "df['IMULgtAcceleration'] = df['IMULgtAcceleration'].multiply(multiplier)\n",
    "\n",
    "m = morton.Morton(dimensions=2, bits=64)\n",
    "def set_value(row):    \n",
    "    return m.pack(int(row['IMULatAcceleration']), int(row['IMULgtAcceleration']))\n",
    "\n",
    "df['morton_offset_2'] = df.apply(set_value, axis=1)\n",
    "\n"
   ]
  },
  {
   "cell_type": "code",
   "execution_count": null,
   "metadata": {},
   "outputs": [],
   "source": [
    "offset = 3 #predefined\n",
    "multiplier = 10000 # predefined\n",
    "#  Base transformation\n",
    "df['IMULatAcceleration']= df['IMULatAcceleration'].add(offset)\n",
    "df['IMULgtAcceleration']= df['IMULgtAcceleration'].add(offset)\n",
    "df['IMULatAcceleration'] = df['IMULatAcceleration'].multiply(multiplier)\n",
    "df['IMULgtAcceleration'] = df['IMULgtAcceleration'].multiply(multiplier)\n",
    "\n",
    "m = morton.Morton(dimensions=2, bits=64)\n",
    "def set_value(row):    \n",
    "    return m.pack(int(row['IMULatAcceleration']), int(row['IMULgtAcceleration']))\n",
    "\n",
    "df['morton_offset_3'] = df.apply(set_value, axis=1)"
   ]
  },
  {
   "cell_type": "code",
   "execution_count": null,
   "metadata": {},
   "outputs": [],
   "source": [
    "offset = 2 #predefined\n",
    "multiplier = 10001 # predefined\n",
    "#  Base transformation\n",
    "df['IMULatAcceleration']= df['IMULatAcceleration'].add(offset)\n",
    "df['IMULgtAcceleration']= df['IMULgtAcceleration'].add(offset)\n",
    "df['IMULatAcceleration'] = df['IMULatAcceleration'].multiply(multiplier)\n",
    "df['IMULgtAcceleration'] = df['IMULgtAcceleration'].multiply(multiplier)\n",
    "\n",
    "m = morton.Morton(dimensions=2, bits=64)\n",
    "def set_value(row):    \n",
    "    return m.pack(int(row['IMULatAcceleration']), int(row['IMULgtAcceleration']))\n",
    "\n",
    "df['morton_offset_2_multi100001'] = df.apply(set_value, axis=1)"
   ]
  },
  {
   "cell_type": "code",
   "execution_count": null,
   "metadata": {},
   "outputs": [],
   "source": [
    "plt.eventplot(df['morton_offset_2'],orientation='vertical',linewidths=0.1)"
   ]
  },
  {
   "cell_type": "code",
   "execution_count": null,
   "metadata": {},
   "outputs": [],
   "source": [
    "plt.eventplot(df['morton_offset_3'],orientation='vertical',linewidths=0.1)"
   ]
  },
  {
   "cell_type": "code",
   "execution_count": null,
   "metadata": {},
   "outputs": [],
   "source": [
    "fig, (ax1,ax2) = plt.subplots(1,2)\n",
    "ax1 = plt.eventplot(df['morton_offset_2'],orientation='vertical',linewidths=0.1)\n",
    "ax2 = plt.eventplot(df['morton_offset_3'],orientation='vertical',linewidths=0.1)\n",
    "\n"
   ]
  },
  {
   "cell_type": "code",
   "execution_count": null,
   "metadata": {},
   "outputs": [],
   "source": [
    "plt.eventplot(df['morton_offset_2_multi100001'],orientation='vertical',linewidths=0.1)\n"
   ]
  },
  {
   "cell_type": "code",
   "execution_count": null,
   "metadata": {},
   "outputs": [],
   "source": []
  },
  {
   "cell_type": "code",
   "execution_count": null,
   "metadata": {},
   "outputs": [],
   "source": [
    "# How linear corelated data looks on CSPs \n",
    "# What about x^2 x^3 data looks on csps\n",
    "# Fibonacci on CSP"
   ]
  },
  {
   "cell_type": "code",
   "execution_count": null,
   "metadata": {},
   "outputs": [],
   "source": [
    "# same data, different resolution\n",
    "\n"
   ]
  },
  {
   "cell_type": "code",
   "execution_count": null,
   "metadata": {},
   "outputs": [],
   "source": [
    "# Zoom-in strategy:i.e. latitudianl/longitudinal data"
   ]
  },
  {
   "cell_type": "code",
   "execution_count": null,
   "metadata": {},
   "outputs": [],
   "source": [
    "# Zoom-out strategy: i.e. IMUlag/lgt data"
   ]
  }
 ],
 "metadata": {
  "kernelspec": {
   "display_name": "Python 3",
   "language": "python",
   "name": "python3"
  },
  "language_info": {
   "codemirror_mode": {
    "name": "ipython",
    "version": 3
   },
   "file_extension": ".py",
   "mimetype": "text/x-python",
   "name": "python",
   "nbconvert_exporter": "python",
   "pygments_lexer": "ipython3",
   "version": "3.9.13"
  },
  "orig_nbformat": 4
 },
 "nbformat": 4,
 "nbformat_minor": 2
}
