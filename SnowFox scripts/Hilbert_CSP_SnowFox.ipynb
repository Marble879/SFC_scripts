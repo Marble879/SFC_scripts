{
 "cells": [
  {
   "cell_type": "code",
   "execution_count": 18,
   "metadata": {},
   "outputs": [],
   "source": [
    "import pandas as pd\n",
    "import matplotlib.pyplot as plt\n",
    "from hilbertcurve.hilbertcurve import HilbertCurve"
   ]
  },
  {
   "attachments": {},
   "cell_type": "markdown",
   "metadata": {},
   "source": [
    "### Constants"
   ]
  },
  {
   "cell_type": "code",
   "execution_count": 19,
   "metadata": {},
   "outputs": [],
   "source": [
    "OFFSET = 10\n",
    "FACTOR_MULTIPLY = 10000"
   ]
  },
  {
   "attachments": {},
   "cell_type": "markdown",
   "metadata": {},
   "source": [
    "### Read files"
   ]
  },
  {
   "cell_type": "code",
   "execution_count": 20,
   "metadata": {},
   "outputs": [],
   "source": [
    "# Reference roundabout - Acceleration\n",
    "dfAccel = pd.read_csv('SnowFox-Roundabout-Dataset/SnowFox-Roundabout-Dataset/reference-roundabout/reference-roundabout.Vehicle-IMU-Acceleration-100Hz.csv', sep=';')\n",
    "# Reference roundabout - Angular Velocities\n",
    "dfAngularVel = pd.read_csv('SnowFox-Roundabout-Dataset/SnowFox-Roundabout-Dataset/reference-roundabout/reference-roundabout.Vehicle-IMU-AngularVelocities-100Hz.csv', sep=';')\n"
   ]
  },
  {
   "attachments": {},
   "cell_type": "markdown",
   "metadata": {},
   "source": [
    "### Apply constants"
   ]
  },
  {
   "cell_type": "code",
   "execution_count": 21,
   "metadata": {},
   "outputs": [],
   "source": [
    "# Reference roundabout - Acceleration\n",
    "# Note: constants are applied only to 'IMULatAcceleration' and 'IMULatAcceleration'\n",
    "\n",
    "dfAccel['IMULgtAcceleration']=dfAccel['IMULgtAcceleration'].add(OFFSET)\n",
    "dfAccel['IMULatAcceleration']=dfAccel['IMULatAcceleration'].add(OFFSET)\n",
    "\n",
    "dfAccel['IMULgtAcceleration'] = dfAccel.apply(lambda x: int(x['IMULgtAcceleration']*FACTOR_MULTIPLY) , axis=1)\n",
    "dfAccel['IMULatAcceleration'] = dfAccel.apply(lambda x: int(x['IMULatAcceleration']*FACTOR_MULTIPLY) , axis=1)"
   ]
  },
  {
   "cell_type": "code",
   "execution_count": 22,
   "metadata": {},
   "outputs": [],
   "source": [
    "# Reference roundabout - Angular Velocities\n",
    "# Note: constants are applied only to 'IMURollRate' and 'IMUYawRate'\n",
    "\n",
    "dfAngularVel['IMURollRate']=dfAngularVel['IMURollRate'].add(OFFSET)\n",
    "dfAngularVel['IMUYawRate']=dfAngularVel['IMUYawRate'].add(OFFSET)\n",
    "\n",
    "dfAngularVel['IMURollRate'] = dfAngularVel.apply(lambda x: int(x['IMURollRate']*FACTOR_MULTIPLY) , axis=1)\n",
    "dfAngularVel['IMUYawRate'] = dfAngularVel.apply(lambda x: int(x['IMUYawRate']*FACTOR_MULTIPLY) , axis=1)"
   ]
  },
  {
   "attachments": {},
   "cell_type": "markdown",
   "metadata": {},
   "source": [
    "### Hilbert Plot"
   ]
  },
  {
   "cell_type": "code",
   "execution_count": 23,
   "metadata": {},
   "outputs": [
    {
     "data": {
      "image/png": "[encoded data removed]",
      "text/plain": [
       "<Figure size 640x480 with 1 Axes>"
      ]
     },
     "metadata": {},
     "output_type": "display_data"
    }
   ],
   "source": [
    "# Reference roundabout - Acceleration\n",
    "\n",
    "resolution = 26; dimension = 2\n",
    "hilbert_curve = HilbertCurve(resolution, dimension, n_procs=-1)\n",
    "\n",
    "points = dfAccel[['IMULgtAcceleration','IMULatAcceleration']].to_numpy()\n",
    "\n",
    "# Generate Hilbert index\n",
    "distances = hilbert_curve.distances_from_points(points)\n",
    "\n",
    "# Add Hilbert index to 'hilbert' column\n",
    "df_hilbert = pd.concat([dfAccel, pd.DataFrame(distances, columns = ['hilbert'] )], axis=1)\n",
    "\n",
    "# Plot Hilbert CSP\n",
    "plt.hist(df_hilbert['hilbert'], bins=200)\n",
    "# limit y axis to 1 to show binary presence of data point\n",
    "plt.ylim(0,1)\n",
    "plt.show()"
   ]
  },
  {
   "cell_type": "code",
   "execution_count": 24,
   "metadata": {},
   "outputs": [
    {
     "data": {
      "image/png": "[encoded data removed]",
      "text/plain": [
       "<Figure size 640x480 with 1 Axes>"
      ]
     },
     "metadata": {},
     "output_type": "display_data"
    }
   ],
   "source": [
    "# Reference roundabout - Angular Velocities\n",
    "\n",
    "resolution = 26; dimension = 2\n",
    "hilbert_curve = HilbertCurve(resolution, dimension, n_procs=-1)\n",
    "\n",
    "points = dfAngularVel[['IMURollRate','IMUYawRate']].to_numpy()\n",
    "\n",
    "# Generate Hilbert index\n",
    "distances = hilbert_curve.distances_from_points(points)\n",
    "\n",
    "# Add Hilbert index to 'hilbert' column\n",
    "df_hilbert = pd.concat([dfAngularVel, pd.DataFrame(distances, columns = ['hilbert'] )], axis=1)\n",
    "\n",
    "# Plot Hilbert CSP\n",
    "plt.hist(df_hilbert['hilbert'], bins=200)\n",
    "# limit y axis to 1 to show binary presence of data point\n",
    "plt.ylim(0,1)\n",
    "plt.show()"
   ]
  },
  {
   "attachments": {},
   "cell_type": "markdown",
   "metadata": {},
   "source": []
  }
 ],
 "metadata": {
  "kernelspec": {
   "display_name": "Python 3",
   "language": "python",
   "name": "python3"
  },
  "language_info": {
   "codemirror_mode": {
    "name": "ipython",
    "version": 3
   },
   "file_extension": ".py",
   "mimetype": "text/x-python",
   "name": "python",
   "nbconvert_exporter": "python",
   "pygments_lexer": "ipython3",
   "version": "3.9.0"
  },
  "orig_nbformat": 4
 },
 "nbformat": 4,
 "nbformat_minor": 2
}
