{
 "cells": [
  {
   "cell_type": "code",
   "execution_count": 352,
   "metadata": {},
   "outputs": [],
   "source": [
    "import pandas as pd\n",
    "import matplotlib.pyplot as plt\n",
    "import numpy as np\n",
    "import morton\n",
    "import math\n",
    "from hilbertcurve.hilbertcurve import HilbertCurve"
   ]
  },
  {
   "cell_type": "code",
   "execution_count": 353,
   "metadata": {},
   "outputs": [
    {
     "data": {
      "text/html": [
       "<div>\n",
       "<style scoped>\n",
       "    .dataframe tbody tr th:only-of-type {\n",
       "        vertical-align: middle;\n",
       "    }\n",
       "\n",
       "    .dataframe tbody tr th {\n",
       "        vertical-align: top;\n",
       "    }\n",
       "\n",
       "    .dataframe thead th {\n",
       "        text-align: right;\n",
       "    }\n",
       "</style>\n",
       "<table border=\"1\" class=\"dataframe\">\n",
       "  <thead>\n",
       "    <tr style=\"text-align: right;\">\n",
       "      <th></th>\n",
       "      <th>A</th>\n",
       "      <th>B</th>\n",
       "    </tr>\n",
       "  </thead>\n",
       "  <tbody>\n",
       "    <tr>\n",
       "      <th>count</th>\n",
       "      <td>5.000000</td>\n",
       "      <td>5.000000</td>\n",
       "    </tr>\n",
       "    <tr>\n",
       "      <th>mean</th>\n",
       "      <td>26.200000</td>\n",
       "      <td>34.000000</td>\n",
       "    </tr>\n",
       "    <tr>\n",
       "      <th>std</th>\n",
       "      <td>20.315019</td>\n",
       "      <td>20.012496</td>\n",
       "    </tr>\n",
       "    <tr>\n",
       "      <th>min</th>\n",
       "      <td>0.000000</td>\n",
       "      <td>12.000000</td>\n",
       "    </tr>\n",
       "    <tr>\n",
       "      <th>25%</th>\n",
       "      <td>16.000000</td>\n",
       "      <td>18.000000</td>\n",
       "    </tr>\n",
       "    <tr>\n",
       "      <th>50%</th>\n",
       "      <td>29.000000</td>\n",
       "      <td>31.000000</td>\n",
       "    </tr>\n",
       "    <tr>\n",
       "      <th>75%</th>\n",
       "      <td>31.000000</td>\n",
       "      <td>52.000000</td>\n",
       "    </tr>\n",
       "    <tr>\n",
       "      <th>max</th>\n",
       "      <td>55.000000</td>\n",
       "      <td>57.000000</td>\n",
       "    </tr>\n",
       "  </tbody>\n",
       "</table>\n",
       "</div>"
      ],
      "text/plain": [
       "               A          B\n",
       "count   5.000000   5.000000\n",
       "mean   26.200000  34.000000\n",
       "std    20.315019  20.012496\n",
       "min     0.000000  12.000000\n",
       "25%    16.000000  18.000000\n",
       "50%    29.000000  31.000000\n",
       "75%    31.000000  52.000000\n",
       "max    55.000000  57.000000"
      ]
     },
     "execution_count": 353,
     "metadata": {},
     "output_type": "execute_result"
    }
   ],
   "source": [
    "# Create 2D data\n",
    "df = pd.DataFrame(np.random.randint(0,65,size=(5, 2)), columns=list('AB'))\n",
    "df.describe()"
   ]
  },
  {
   "cell_type": "code",
   "execution_count": 354,
   "metadata": {},
   "outputs": [],
   "source": [
    "# Morton algorithm\n",
    "m = morton.Morton(dimensions=2, bits=64)\n",
    "def set_value(data,key1,key2):    \n",
    "    return m.pack(int(data[key1]), int(data[key2]))\n",
    "\n"
   ]
  },
  {
   "cell_type": "code",
   "execution_count": 355,
   "metadata": {},
   "outputs": [],
   "source": [
    "hilbert_curve = HilbertCurve(64, 2, n_procs=-1)\n",
    "def set_value_Hcurve(data,key1,key2,key3):\n",
    "    points = data[[key1,key2]].to_numpy()\n",
    "    distances = hilbert_curve.distances_from_points(points)\n",
    "    data[key3] = pd.DataFrame(distances )\n",
    "    return data"
   ]
  },
  {
   "cell_type": "code",
   "execution_count": 360,
   "metadata": {},
   "outputs": [
    {
     "data": {
      "text/plain": [
       "count         5.0\n",
       "mean     196608.0\n",
       "std           0.0\n",
       "min      196608.0\n",
       "25%      196608.0\n",
       "50%      196608.0\n",
       "75%      196608.0\n",
       "max      196608.0\n",
       "Name: offset_delta, dtype: float64"
      ]
     },
     "execution_count": 360,
     "metadata": {},
     "output_type": "execute_result"
    }
   ],
   "source": [
    "# Offset experiment\n",
    "offset_2 = 0\n",
    "offset_3 = 256\n",
    "df['A_offset_2']=df['A'].add(offset_2)\n",
    "df['B_offset_2']=df['B'].add(offset_2)\n",
    "df['A_offset_3']=df['A'].add(offset_3)\n",
    "df['B_offset_3']=df['B'].add(offset_3)\n",
    "df['morton_offset_2']= df.apply(set_value,args=('A_offset_2','B_offset_2'),axis=1)\n",
    "df['morton_offset_3']= df.apply(set_value,args=('A_offset_3','B_offset_3'),axis=1)\n",
    "df['offset_delta']=df['morton_offset_3']-df['morton_offset_2']\n",
    "df['offset_delta']\n",
    "df['offset_delta'].describe()\n",
    "# plt.hist(df['offset_delta'],bins=10)\n"
   ]
  },
  {
   "cell_type": "code",
   "execution_count": 361,
   "metadata": {},
   "outputs": [
    {
     "data": {
      "text/plain": [
       "count         5.0\n",
       "mean     163840.0\n",
       "std           0.0\n",
       "min      163840.0\n",
       "25%      163840.0\n",
       "50%      163840.0\n",
       "75%      163840.0\n",
       "max      163840.0\n",
       "Name: offset_delta_hcurve, dtype: float64"
      ]
     },
     "execution_count": 361,
     "metadata": {},
     "output_type": "execute_result"
    }
   ],
   "source": [
    "offset_2 = 0\n",
    "offset_3 = 384 \n",
    "df['A_offset_2']=df['A'].add(offset_2)\n",
    "df['B_offset_2']=df['B'].add(offset_2)\n",
    "df['A_offset_3']=df['A'].add(offset_3)\n",
    "df['B_offset_3']=df['B'].add(offset_3)\n",
    "df=set_value_Hcurve(df,'A_offset_2','B_offset_2','hcurve_offset_2')\n",
    "df=set_value_Hcurve(df,'A_offset_3','B_offset_3','hcurve_offset_3')\n",
    "df['offset_delta_hcurve']=df['hcurve_offset_3']-df['hcurve_offset_2']\n",
    "df['offset_delta_hcurve']\n",
    "df['offset_delta_hcurve'].describe()\n",
    "\n",
    "# 3k*2^n where 2^n>max(df) for hilbert curve offset"
   ]
  },
  {
   "cell_type": "code",
   "execution_count": null,
   "metadata": {},
   "outputs": [],
   "source": [
    "df"
   ]
  },
  {
   "cell_type": "code",
   "execution_count": null,
   "metadata": {},
   "outputs": [],
   "source": [
    "fig,ax=plt.subplots(1,2)\n",
    "ax[0].eventplot(df['morton_offset_2'],orientation='vertical',linewidths=0.5)\n",
    "ax[1].eventplot(df['morton_offset_3'],orientation='vertical',linewidths=0.5)\n",
    "fig.show()"
   ]
  },
  {
   "cell_type": "code",
   "execution_count": null,
   "metadata": {},
   "outputs": [],
   "source": [
    "# conclusion: for lowest 2^n>max(df), offset k*2^n will keep the shape of the CSP"
   ]
  },
  {
   "cell_type": "code",
   "execution_count": null,
   "metadata": {},
   "outputs": [],
   "source": [
    "# Multiplier experiment\n",
    "multi_2 = 1\n",
    "multi_3 = 8\n",
    "df['A_multi_2']=df['A'].multiply(multi_2)\n",
    "df['B_multi_2']=df['B'].multiply(multi_2)\n",
    "df['A_multi_3']=df['A'].multiply(multi_3)\n",
    "df['B_multi_3']=df['B'].multiply(multi_3)\n",
    "df['morton_multi_2']= df.apply(set_value,args=('A_multi_2','B_multi_2'),axis=1)\n",
    "df['morton_multi_3']= df.apply(set_value,args=('A_multi_3','B_multi_3'),axis=1)\n",
    "df['multi_delta']=df['morton_multi_3']/df['morton_multi_2']\n",
    "df['multi_delta']\n",
    "df['multi_delta'].describe()\n",
    "# plt.hist(df['offset_delta'],bins=10)"
   ]
  },
  {
   "cell_type": "code",
   "execution_count": null,
   "metadata": {},
   "outputs": [],
   "source": [
    "# Multiplier experiment h-curve\n",
    "multi_2 = 1\n",
    "multi_3 = 30\n",
    "df['A_multi_2']=df['A'].multiply(multi_2)\n",
    "df['B_multi_2']=df['B'].multiply(multi_2)\n",
    "df['A_multi_3']=df['A'].multiply(multi_3)\n",
    "df['B_multi_3']=df['B'].multiply(multi_3)\n",
    "df=set_value_Hcurve(df,'A_multi_2','B_multi_2','hcurve_multi_2')\n",
    "df=set_value_Hcurve(df,'A_multi_3','B_multi_3','hcurve_multi_3')\n",
    "df['morton_multi_2']= df.apply(set_value,args=('A_multi_2','B_multi_2'),axis=1)\n",
    "df['morton_multi_3']= df.apply(set_value,args=('A_multi_3','B_multi_3'),axis=1)\n",
    "df['multi_delta_hcurve']=df['hcurve_multi_3']/df['hcurve_multi_2']\n",
    "print(df)\n",
    "df['multi_delta_hcurve'].describe()\n",
    "# plt.hist(df['offset_delta'],bins=10)"
   ]
  },
  {
   "cell_type": "code",
   "execution_count": null,
   "metadata": {},
   "outputs": [],
   "source": [
    "def get_std_with_different_multiplier(data,key1,key2,multiplier):\n",
    "    col_name_1=key1+'_'+str(multiplier)\n",
    "    col_name_2=key2+'_'+str(multiplier)\n",
    "    data[col_name_1]=data[key1].multiply(multiplier)\n",
    "    data[col_name_2]=data[key2].multiply(multiplier)\n",
    "    data=set_value_Hcurve(data,col_name_1,col_name_2,'hcurve_multi')\n",
    "    data=set_value_Hcurve(data,key1,key2,'origin')\n",
    "    data['multi_delt_hcurve']=df['hcurve_multi']/df['origin']\n",
    "    return data['multi_delt_hcurve'].std()\n"
   ]
  },
  {
   "cell_type": "code",
   "execution_count": null,
   "metadata": {},
   "outputs": [],
   "source": [
    "std_list=[]\n",
    "for i in range(2,100):\n",
    "    std_list.append(get_std_with_different_multiplier(df,'A','B',i))\n",
    "dff=pd.DataFrame(std_list,columns=['std'])\n",
    "dff\n",
    "# multiplier does not work with the h-curve"
   ]
  },
  {
   "cell_type": "code",
   "execution_count": null,
   "metadata": {},
   "outputs": [],
   "source": [
    "dff.min()"
   ]
  },
  {
   "cell_type": "code",
   "execution_count": null,
   "metadata": {},
   "outputs": [],
   "source": [
    "fig,ax=plt.subplots(1,2)\n",
    "ax[0].eventplot(df['morton_multi_2'],orientation='vertical',linewidths=0.5)\n",
    "ax[1].eventplot(df['morton_multi_3'],orientation='vertical',linewidths=0.5)\n",
    "fig.show()"
   ]
  },
  {
   "cell_type": "code",
   "execution_count": null,
   "metadata": {},
   "outputs": [],
   "source": [
    "# Conclusion: multipler should be 2^n"
   ]
  },
  {
   "cell_type": "code",
   "execution_count": null,
   "metadata": {},
   "outputs": [],
   "source": [
    "# Does Multiply and offset order matter Experiment: Answer yes! the order matters\n"
   ]
  },
  {
   "cell_type": "code",
   "execution_count": null,
   "metadata": {},
   "outputs": [],
   "source": [
    "fig,ax=plt.subplots(1,2)\n",
    "ax[0].eventplot(df['morton_multi_2'],orientation='vertical',linewidths=0.5)\n",
    "ax[1].eventplot(df['morton_multi_3'],orientation='vertical',linewidths=0.5)\n",
    "fig.show()"
   ]
  }
 ],
 "metadata": {
  "kernelspec": {
   "display_name": "Python 3",
   "language": "python",
   "name": "python3"
  },
  "language_info": {
   "codemirror_mode": {
    "name": "ipython",
    "version": 3
   },
   "file_extension": ".py",
   "mimetype": "text/x-python",
   "name": "python",
   "nbconvert_exporter": "python",
   "pygments_lexer": "ipython3",
   "version": "3.9.16"
  },
  "orig_nbformat": 4
 },
 "nbformat": 4,
 "nbformat_minor": 2
}
