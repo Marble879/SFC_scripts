{
 "cells": [
  {
   "cell_type": "code",
   "execution_count": 1,
   "id": "184d956a-1f2b-436b-96d1-ebbed017ae96",
   "metadata": {},
   "outputs": [],
   "source": [
    "import pandas as pd\n",
    "import matplotlib.pyplot as plt\n",
    "import morton"
   ]
  },
  {
   "cell_type": "markdown",
   "id": "a39115c3",
   "metadata": {},
   "source": [
    "## Constants"
   ]
  },
  {
   "cell_type": "code",
   "execution_count": 3,
   "id": "d8054f70",
   "metadata": {},
   "outputs": [],
   "source": [
    "# Declare constants\n",
    "SNOW_FOX_REFERENCE_DATA = 'SnowFox-Roundabout-Dataset/SnowFox-Roundabout-Dataset/reference-roundabout'\n",
    "SNOW_FOX_DATA = 'SnowFox-Roundabout-Dataset/SnowFox-Roundabout-Dataset/data-roundabout'"
   ]
  },
  {
   "cell_type": "markdown",
   "id": "0ffd2953",
   "metadata": {},
   "source": [
    "# Initialize Dataframes"
   ]
  },
  {
   "cell_type": "code",
   "execution_count": 4,
   "id": "4a13e5d5-f3bf-495d-9808-72c3574041b7",
   "metadata": {},
   "outputs": [],
   "source": [
    "dfGPS = pd.read_csv(SNOW_FOX_REFERENCE_DATA+'/reference-roundabout.GPS-20Hz.csv')\n",
    "dfAcceleration = pd.read_csv(SNOW_FOX_REFERENCE_DATA+'/reference-roundabout.Vehicle-IMU-Acceleration-100Hz.csv')\n"
   ]
  },
  {
   "cell_type": "markdown",
   "id": "25f7b5c1",
   "metadata": {},
   "source": [
    "### Display dataframes"
   ]
  },
  {
   "cell_type": "code",
   "execution_count": 6,
   "id": "87953e87",
   "metadata": {},
   "outputs": [
    {
     "name": "stdout",
     "output_type": "stream",
     "text": [
      "GPS dataframe: \n",
      "--------------------------------------\n",
      "Acceleration dataframe: \n"
     ]
    },
    {
     "data": {
      "text/html": [
       "<div>\n",
       "<style scoped>\n",
       "    .dataframe tbody tr th:only-of-type {\n",
       "        vertical-align: middle;\n",
       "    }\n",
       "\n",
       "    .dataframe tbody tr th {\n",
       "        vertical-align: top;\n",
       "    }\n",
       "\n",
       "    .dataframe thead th {\n",
       "        text-align: right;\n",
       "    }\n",
       "</style>\n",
       "<table border=\"1\" class=\"dataframe\">\n",
       "  <thead>\n",
       "    <tr style=\"text-align: right;\">\n",
       "      <th></th>\n",
       "      <th>sent.seconds;sent.microseconds;received.seconds;received.microseconds;sampleTimeStamp.seconds;sampleTimeStamp.microseconds;IMULatAcceleration;IMULgtAcceleration;IMUVerAcceleration</th>\n",
       "    </tr>\n",
       "  </thead>\n",
       "  <tbody>\n",
       "    <tr>\n",
       "      <th>0</th>\n",
       "      <td>1584853141;14323;1584853141;14379;1584853141;1...</td>\n",
       "    </tr>\n",
       "    <tr>\n",
       "      <th>1</th>\n",
       "      <td>1584853141;25527;1584853141;25570;1584853141;2...</td>\n",
       "    </tr>\n",
       "    <tr>\n",
       "      <th>2</th>\n",
       "      <td>1584853141;34361;1584853141;34402;1584853141;3...</td>\n",
       "    </tr>\n",
       "    <tr>\n",
       "      <th>3</th>\n",
       "      <td>1584853141;44198;1584853141;44222;1584853141;4...</td>\n",
       "    </tr>\n",
       "    <tr>\n",
       "      <th>4</th>\n",
       "      <td>1584853141;54135;1584853141;54169;1584853141;5...</td>\n",
       "    </tr>\n",
       "    <tr>\n",
       "      <th>...</th>\n",
       "      <td>...</td>\n",
       "    </tr>\n",
       "    <tr>\n",
       "      <th>2087</th>\n",
       "      <td>1584853161;954532;1584853161;954574;1584853161...</td>\n",
       "    </tr>\n",
       "    <tr>\n",
       "      <th>2088</th>\n",
       "      <td>1584853161;964283;1584853161;964318;1584853161...</td>\n",
       "    </tr>\n",
       "    <tr>\n",
       "      <th>2089</th>\n",
       "      <td>1584853161;974351;1584853161;974387;1584853161...</td>\n",
       "    </tr>\n",
       "    <tr>\n",
       "      <th>2090</th>\n",
       "      <td>1584853161;984191;1584853161;984226;1584853161...</td>\n",
       "    </tr>\n",
       "    <tr>\n",
       "      <th>2091</th>\n",
       "      <td>1584853161;994635;1584853161;994671;1584853161...</td>\n",
       "    </tr>\n",
       "  </tbody>\n",
       "</table>\n",
       "<p>2092 rows × 1 columns</p>\n",
       "</div>"
      ],
      "text/plain": [
       "     sent.seconds;sent.microseconds;received.seconds;received.microseconds;sampleTimeStamp.seconds;sampleTimeStamp.microseconds;IMULatAcceleration;IMULgtAcceleration;IMUVerAcceleration\n",
       "0     1584853141;14323;1584853141;14379;1584853141;1...                                                                                                                                 \n",
       "1     1584853141;25527;1584853141;25570;1584853141;2...                                                                                                                                 \n",
       "2     1584853141;34361;1584853141;34402;1584853141;3...                                                                                                                                 \n",
       "3     1584853141;44198;1584853141;44222;1584853141;4...                                                                                                                                 \n",
       "4     1584853141;54135;1584853141;54169;1584853141;5...                                                                                                                                 \n",
       "...                                                 ...                                                                                                                                 \n",
       "2087  1584853161;954532;1584853161;954574;1584853161...                                                                                                                                 \n",
       "2088  1584853161;964283;1584853161;964318;1584853161...                                                                                                                                 \n",
       "2089  1584853161;974351;1584853161;974387;1584853161...                                                                                                                                 \n",
       "2090  1584853161;984191;1584853161;984226;1584853161...                                                                                                                                 \n",
       "2091  1584853161;994635;1584853161;994671;1584853161...                                                                                                                                 \n",
       "\n",
       "[2092 rows x 1 columns]"
      ]
     },
     "execution_count": 6,
     "metadata": {},
     "output_type": "execute_result"
    }
   ],
   "source": [
    "# Output both dataframes\n",
    "print('GPS dataframe: ')\n",
    "dfGPS"
   ]
  },
  {
   "cell_type": "code",
   "execution_count": null,
   "id": "21efa9bc",
   "metadata": {},
   "outputs": [],
   "source": [
    "dfAcceleration"
   ]
  },
  {
   "cell_type": "code",
   "execution_count": null,
   "id": "86cdc8f8-3d42-4a80-a309-06f5eadb3ccc",
   "metadata": {},
   "outputs": [],
   "source": [
    "df['ts'] = (df['sampleTimeStamp.seconds']*1000000)+df['sampleTimeStamp.microseconds']\n",
    "df = df.drop(columns=['sampleTimeStamp.seconds', 'sampleTimeStamp.microseconds'])"
   ]
  },
  {
   "cell_type": "code",
   "execution_count": null,
   "id": "161964c1-3c29-40be-91fd-6bc574d0fef0",
   "metadata": {},
   "outputs": [],
   "source": [
    "df"
   ]
  },
  {
   "cell_type": "code",
   "execution_count": null,
   "id": "ed20d97f-9d0d-4de2-aa61-3fa437106230",
   "metadata": {},
   "outputs": [],
   "source": [
    "#faktor_multiply = 1000000; offset = 10\n",
    "\n",
    "#df['lon'] = df.apply(lambda x: int(x['lon']*faktor_multiply) , axis=1)\n",
    "#df['lat'] = df.apply(lambda x: int(x['lat']*faktor_multiply) , axis=1)\n",
    "\n",
    "#df.plot(x = 'lon', y = 'lat')"
   ]
  },
  {
   "cell_type": "code",
   "execution_count": null,
   "id": "cae5255d-d93a-4a81-8b5b-d58ce0800e39",
   "metadata": {},
   "outputs": [],
   "source": [
    "df"
   ]
  },
  {
   "cell_type": "code",
   "execution_count": null,
   "id": "37de86b8-2744-486b-9dbf-33a01cffd7de",
   "metadata": {},
   "outputs": [],
   "source": [
    "offset = 10\n",
    "\n",
    "df['accel_lon'] = df['accel_lon'].add(offset)\n",
    "df['accel_trans'] = df['accel_trans'].add(offset)\n",
    "df['accel_down'] = df['accel_down'].add(offset)\n",
    "\n",
    "faktor_multiply = 10000\n",
    "\n",
    "df['accel_lon'] = df.apply(lambda x: int(x['accel_lon']*faktor_multiply) , axis=1)\n",
    "df['accel_trans'] = df.apply(lambda x: int(x['accel_trans']*faktor_multiply) , axis=1)\n",
    "df['accel_down'] = df.apply(lambda x: int(x['accel_down']*faktor_multiply) , axis=1)"
   ]
  },
  {
   "cell_type": "code",
   "execution_count": null,
   "id": "ef13040d-ce45-45af-9251-db9fa615d3fc",
   "metadata": {},
   "outputs": [],
   "source": [
    "df"
   ]
  },
  {
   "cell_type": "code",
   "execution_count": null,
   "id": "e3c41d9f-27d3-43ed-8750-0b7755372c0d",
   "metadata": {},
   "outputs": [],
   "source": [
    "m = morton.Morton(dimensions=2, bits=18)\n",
    "\n",
    "def set_value(row):    \n",
    "    return m.pack(int(row['accel_lon']), int(row['accel_trans']))\n",
    "\n",
    "\n",
    "df['morton'] = df.apply(set_value, axis=1)"
   ]
  },
  {
   "cell_type": "code",
   "execution_count": null,
   "id": "2b4447e9-a878-4967-872e-15e72a852633",
   "metadata": {},
   "outputs": [],
   "source": [
    "dff = df[(df['ts'] > 1646666719952825) & (df['ts'] < 1646666769952825)]\n",
    "#dff = df[(df['ts'] > 1646666550000000) & (df['ts'] < 1646666570000000)]\n",
    "# dff = df[(df['ts'] > 1646666563800000) & (df['ts'] < 1646666564800000)]\n",
    "\n",
    "#dff = df[(df['accel_lon'] > 140000)]\n",
    "#dff = df[(df['morton'] > 26776019010)]\n",
    "#dff = df"
   ]
  },
  {
   "cell_type": "code",
   "execution_count": null,
   "id": "15091b52-d3e0-445f-ae57-d5fdbb171660",
   "metadata": {},
   "outputs": [],
   "source": [
    "dff.plot(x = 'lon', y = 'lat')"
   ]
  },
  {
   "cell_type": "code",
   "execution_count": null,
   "id": "0c349e74-e5af-4825-bf18-e4502c8dd475",
   "metadata": {},
   "outputs": [],
   "source": [
    "dff.plot(x = 'ts', y = 'speed')"
   ]
  },
  {
   "cell_type": "code",
   "execution_count": null,
   "id": "f6731c9f-10db-40e4-be0f-a02a66366e6b",
   "metadata": {},
   "outputs": [],
   "source": [
    "dff.plot(x = 'ts', y=['accel_lon', 'accel_trans'] )"
   ]
  },
  {
   "cell_type": "code",
   "execution_count": null,
   "id": "d155d506-15b1-4fe4-872f-f00c4b7da555",
   "metadata": {},
   "outputs": [],
   "source": [
    "fig = plt.figure()\n",
    "ax = fig.add_subplot(1, 1, 1)\n",
    "\n",
    "dff.plot(kind='scatter',x='accel_lon',y='accel_trans', color = dff['ts'], ax=ax)"
   ]
  },
  {
   "cell_type": "code",
   "execution_count": null,
   "id": "4bfd9f01-0dd3-4b38-a517-4a10b55ef5b3",
   "metadata": {},
   "outputs": [],
   "source": [
    "dff"
   ]
  },
  {
   "cell_type": "code",
   "execution_count": null,
   "id": "4efcf96e-8bbc-48da-9b52-d44d1a328294",
   "metadata": {},
   "outputs": [],
   "source": [
    "m = morton.Morton(dimensions=2, bits=30)\n",
    "\n",
    "#dff['accel_lon']\n",
    "\n",
    "#m.pack(int(dff['accel_lon']), int(dff['accel_trans']))"
   ]
  },
  {
   "cell_type": "code",
   "execution_count": null,
   "id": "213444de-72c5-4a47-91ec-00e4a8074091",
   "metadata": {},
   "outputs": [],
   "source": []
  },
  {
   "cell_type": "code",
   "execution_count": null,
   "id": "82fdc3a1-52dd-4daa-b786-087aa28f10a1",
   "metadata": {},
   "outputs": [],
   "source": [
    "dff"
   ]
  },
  {
   "cell_type": "code",
   "execution_count": null,
   "id": "89872122-ce10-46e8-8163-8914f4700fc6",
   "metadata": {},
   "outputs": [],
   "source": [
    "min = dff['morton'].min()\n",
    "max = dff['morton'].max()\n",
    "max = 30000000000\n",
    "\n",
    "print(\"Diagramm incomming...\")\n",
    "\n",
    "plt.hist(dff['morton'], bins=200)\n",
    "plt.xlim(0,max)\n",
    "plt.ylim(0,1)\n",
    "plt.show()"
   ]
  },
  {
   "cell_type": "code",
   "execution_count": null,
   "id": "192f2150-8069-487b-a925-a4a0448d1658",
   "metadata": {},
   "outputs": [],
   "source": []
  },
  {
   "cell_type": "code",
   "execution_count": null,
   "id": "a2828849-be14-46c4-a1e7-8b5756af34da",
   "metadata": {},
   "outputs": [],
   "source": [
    "#dff.to_csv(r'../Data/Ausschnitte/Hard_Braking/Braking_eine_runde.csv', sep=';', index = False)\n",
    "dff.to_csv(r'test.csv', sep=';', index = False)"
   ]
  },
  {
   "cell_type": "code",
   "execution_count": null,
   "id": "2a485b05-318f-454a-ac38-21aaa3b206a3",
   "metadata": {},
   "outputs": [],
   "source": []
  },
  {
   "cell_type": "code",
   "execution_count": null,
   "id": "93afe284",
   "metadata": {},
   "outputs": [],
   "source": []
  },
  {
   "cell_type": "code",
   "execution_count": null,
   "id": "0ac97301",
   "metadata": {},
   "outputs": [],
   "source": []
  },
  {
   "cell_type": "code",
   "execution_count": null,
   "id": "81fa0378",
   "metadata": {},
   "outputs": [],
   "source": []
  },
  {
   "cell_type": "code",
   "execution_count": null,
   "id": "75909d2b",
   "metadata": {},
   "outputs": [],
   "source": []
  },
  {
   "cell_type": "code",
   "execution_count": null,
   "id": "d0920812",
   "metadata": {},
   "outputs": [],
   "source": []
  },
  {
   "cell_type": "code",
   "execution_count": null,
   "id": "00b83661",
   "metadata": {},
   "outputs": [],
   "source": []
  }
 ],
 "metadata": {
  "kernelspec": {
   "display_name": "Python 3 (ipykernel)",
   "language": "python",
   "name": "python3"
  },
  "language_info": {
   "codemirror_mode": {
    "name": "ipython",
    "version": 3
   },
   "file_extension": ".py",
   "mimetype": "text/x-python",
   "name": "python",
   "nbconvert_exporter": "python",
   "pygments_lexer": "ipython3",
   "version": "3.9.16"
  }
 },
 "nbformat": 4,
 "nbformat_minor": 5
}
