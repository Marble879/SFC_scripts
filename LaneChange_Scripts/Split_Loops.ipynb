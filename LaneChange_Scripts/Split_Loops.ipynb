{
 "cells": [
  {
   "cell_type": "code",
   "execution_count": 56,
   "metadata": {},
   "outputs": [],
   "source": [
    "import pandas as pd\n",
    "import numpy as np\n",
    "\n",
    "# Define file to be splitted\n",
    "LANGECHANGE_AND_BRAKING__WITH_TIMESTAMPS = \"data/brakeAndLaneChangesWithTimestamp.csv\"\n",
    "\n",
    "# Create dataframe \n",
    "LCandBrakingDF = pd.read_csv(LANGECHANGE_AND_BRAKING__WITH_TIMESTAMPS, sep=\";\", index_col=False)\n",
    "\n",
    "# Split dataframe in 6 equal parts\n",
    "df_split = np.array_split(LCandBrakingDF, 6)"
   ]
  },
  {
   "attachments": {},
   "cell_type": "markdown",
   "metadata": {},
   "source": [
    "### Notes regarding lane changes\n",
    "\n",
    "From supervision meeting we expect around 8 lane changes in total.\n",
    "\n",
    "Through our visual analysis of lat long:\n",
    "- df_split[3] contains 1 clear lane change\n",
    "- df_split[4] contains 3 clear lane changes\n",
    "- df_split[5] contains 2 clear lane changes (and 1 potential)\n",
    "\n",
    "To plot one section of the splitted dataframe\n",
    "- df_split[0].plot(x = 'lon', y = 'lat')"
   ]
  },
  {
   "attachments": {},
   "cell_type": "markdown",
   "metadata": {},
   "source": [
    "### Algorithm for lane change detection (currently not working: detects noise from u-turns)"
   ]
  },
  {
   "cell_type": "code",
   "execution_count": null,
   "metadata": {},
   "outputs": [],
   "source": [
    "# Define the threshold value\n",
    "threshold = 3.5\n",
    "\n",
    "# Define which column \"accel_trans\" is in the dataframe\n",
    "accel_trans_col = 4\n",
    "\n",
    "# Define which loop we are going through\n",
    "df = df_split[5]\n",
    "\n",
    "arr = df.to_numpy()\n",
    "\n",
    "i = 1\n",
    "while i < len(arr):\n",
    "    if arr[i, accel_trans_col] > threshold or arr[i, accel_trans_col] < -threshold:\n",
    "        print(i)\n",
    "        # Export 50 rows before and 150 rows after the current row\n",
    "        start_index = max(0, i - 50)\n",
    "        end_index = min(len(df), i + 150)\n",
    "        output_df = df.iloc[start_index:end_index]\n",
    "\n",
    "        # Visualization of output for testing\n",
    "        # output_df.plot(x=\"ts\", y=[\"accel_lon\", \"accel_trans\"])\n",
    "        # output_df.plot(x=\"lat\", y=\"lon\")\n",
    "\n",
    "        # Do something with the output dataframe (e.g. save it as a CSV file)\n",
    "        # output_df.to_csv(f\"output_{i}.csv\", sep=\";\", index=False)\n",
    "        \n",
    "        # Move to the next iteration, starting from the 100 rows after the current row\n",
    "        i += 100 \n",
    "    else:\n",
    "        # Move to the next iteration, starting from the next row\n",
    "        i += 1"
   ]
  }
 ],
 "metadata": {
  "kernelspec": {
   "display_name": "Python 3",
   "language": "python",
   "name": "python3"
  },
  "language_info": {
   "codemirror_mode": {
    "name": "ipython",
    "version": 3
   },
   "file_extension": ".py",
   "mimetype": "text/x-python",
   "name": "python",
   "nbconvert_exporter": "python",
   "pygments_lexer": "ipython3",
   "version": "3.9.0"
  },
  "orig_nbformat": 4
 },
 "nbformat": 4,
 "nbformat_minor": 2
}
