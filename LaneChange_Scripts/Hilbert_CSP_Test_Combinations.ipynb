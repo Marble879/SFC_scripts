{
 "cells": [
  {
   "cell_type": "code",
   "execution_count": 331,
   "id": "de4393f1-1170-4096-aa86-f8e7849f0c82",
   "metadata": {},
   "outputs": [],
   "source": [
    "import pandas as pd\n",
    "import matplotlib.pyplot as plt\n",
    "from hilbertcurve.hilbertcurve import HilbertCurve"
   ]
  },
  {
   "attachments": {},
   "cell_type": "markdown",
   "id": "024133d1",
   "metadata": {},
   "source": [
    "### Constants"
   ]
  },
  {
   "cell_type": "code",
   "execution_count": 332,
   "id": "b1c8edbe",
   "metadata": {},
   "outputs": [],
   "source": [
    "OFFSET = 10\n",
    "FACTOR_MULTIPLY = 10000"
   ]
  },
  {
   "attachments": {},
   "cell_type": "markdown",
   "id": "6a2ac0b7",
   "metadata": {},
   "source": [
    "### Read file"
   ]
  },
  {
   "cell_type": "code",
   "execution_count": 333,
   "id": "71ad3c4c-0b78-47e2-a791-5d16ab1cb304",
   "metadata": {},
   "outputs": [],
   "source": [
    "df = pd.read_csv('data/lane_changes/20Hz/lane_change_1.csv', sep=';')\n"
   ]
  },
  {
   "cell_type": "code",
   "execution_count": 334,
   "id": "427e3579",
   "metadata": {},
   "outputs": [],
   "source": [
    "# Reading other files for CSP analysis of different maneouvres\n",
    "# Plotting braking_cut shows us that certain parts of the resulting CSP are the same as with the lane change.\n",
    "#df = pd.read_csv('data/braking_cut.csv', sep=';')\n",
    "#df = pd.read_csv('data/braking_and_lanechange.csv', sep=';')"
   ]
  },
  {
   "attachments": {},
   "cell_type": "markdown",
   "id": "05c46893",
   "metadata": {},
   "source": [
    "### Apply constants"
   ]
  },
  {
   "cell_type": "code",
   "execution_count": 335,
   "id": "ac48de10",
   "metadata": {},
   "outputs": [],
   "source": [
    "df['accel_lon']=df['accel_lon'].add(OFFSET)\n",
    "df['accel_trans']=df['accel_trans'].add(OFFSET)\n",
    "df['accel_down']=df['accel_down'].add(OFFSET)\n",
    "\n",
    "df['speed'] = df.apply(lambda x: int(x['speed']*FACTOR_MULTIPLY) , axis=1)\n",
    "df['accel_lon'] = df.apply(lambda x: int(x['accel_lon']*FACTOR_MULTIPLY) , axis=1)\n",
    "df['accel_trans'] = df.apply(lambda x: int(x['accel_trans']*FACTOR_MULTIPLY) , axis=1)\n",
    "df['accel_down'] = df.apply(lambda x: int(x['accel_down']*FACTOR_MULTIPLY) , axis=1)"
   ]
  },
  {
   "attachments": {},
   "cell_type": "markdown",
   "id": "077053d8",
   "metadata": {},
   "source": [
    "### Data column combinations \n",
    "(uncomment only one 'points' at a time)"
   ]
  },
  {
   "cell_type": "code",
   "execution_count": 336,
   "id": "f6d5159e",
   "metadata": {},
   "outputs": [],
   "source": [
    "# Combination speed + accel_lon\n",
    "# points = df[['speed','accel_lon']].to_numpy()\n",
    "\n",
    "# Combination speed + accel_trans\n",
    "# points = df[['speed','accel_trans']].to_numpy()\n",
    "\n",
    "# Combination speed + accel_down\n",
    "# points = df[['speed','accel_down']].to_numpy()"
   ]
  },
  {
   "cell_type": "code",
   "execution_count": 339,
   "id": "9edb9c52",
   "metadata": {},
   "outputs": [],
   "source": [
    "# Combination accel_lon + accel_trans\n",
    "# points = df[['accel_lon','accel_trans']].to_numpy()\n",
    "\n",
    "# Combination accel_lon + accel_down\n",
    "# points = df[['accel_lon','accel_down']].to_numpy()"
   ]
  },
  {
   "cell_type": "code",
   "execution_count": 341,
   "id": "203706aa",
   "metadata": {},
   "outputs": [],
   "source": [
    "# Combination accel_trans + accel_lon\n",
    "# points = df[['accel_trans','accel_lon']].to_numpy()\n",
    "\n",
    "# Combination accel_trans + accel_down\n",
    "# points = df[['accel_trans','accel_down']].to_numpy()"
   ]
  },
  {
   "cell_type": "code",
   "execution_count": 343,
   "id": "f7e6c8d9",
   "metadata": {},
   "outputs": [],
   "source": [
    "# Combination accel_down + accel_lon\n",
    "# points = df[['accel_down','accel_lon']].to_numpy()\n",
    "\n",
    "# Combination accel_down + accel_trans\n",
    "# points = df[['accel_down','accel_trans']].to_numpy()"
   ]
  },
  {
   "attachments": {},
   "cell_type": "markdown",
   "id": "b65cfe3a",
   "metadata": {},
   "source": [
    "### Hilbert indexing"
   ]
  },
  {
   "cell_type": "code",
   "execution_count": 345,
   "id": "29e8211e",
   "metadata": {},
   "outputs": [],
   "source": [
    "# Declare Hilbert_curve\n",
    "resolution = 26; dimension = 2\n",
    "hilbert_curve = HilbertCurve(resolution, dimension, n_procs=-1)\n",
    "\n",
    "# Generate Hilbert index\n",
    "distances = hilbert_curve.distances_from_points(points)\n",
    "\n",
    "# Add Hilbert index to 'hilbert' column\n",
    "df_hilbert = pd.concat([df, pd.DataFrame(distances, columns = ['hilbert'] )], axis=1)"
   ]
  },
  {
   "attachments": {},
   "cell_type": "markdown",
   "id": "f3426ea4",
   "metadata": {},
   "source": [
    "### Hilbert Plots"
   ]
  },
  {
   "cell_type": "code",
   "execution_count": 346,
   "id": "5c2773df",
   "metadata": {},
   "outputs": [
    {
     "data": {
      "image/png": "[encoded data removed]",
      "text/plain": [
       "<Figure size 640x480 with 1 Axes>"
      ]
     },
     "metadata": {},
     "output_type": "display_data"
    }
   ],
   "source": [
    "# Plot hilbert\n",
    "plt.hist(df_hilbert['hilbert'], bins=200)\n",
    "\n",
    "# Limit y axis to 1 to show binary presence of data point\n",
    "plt.ylim(0,1)\n",
    "# Limit x axis if need to zoom into specific area\n",
    "# plt.xlim(9000000000, 13000000000)\n",
    "\n",
    "plt.show()"
   ]
  }
 ],
 "metadata": {
  "kernelspec": {
   "display_name": "Python 3 (ipykernel)",
   "language": "python",
   "name": "python3"
  },
  "language_info": {
   "codemirror_mode": {
    "name": "ipython",
    "version": 3
   },
   "file_extension": ".py",
   "mimetype": "text/x-python",
   "name": "python",
   "nbconvert_exporter": "python",
   "pygments_lexer": "ipython3",
   "version": "3.9.0"
  }
 },
 "nbformat": 4,
 "nbformat_minor": 5
}
