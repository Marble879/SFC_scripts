{
 "cells": [
  {
   "cell_type": "code",
   "execution_count": 62,
   "id": "0c176541",
   "metadata": {},
   "outputs": [],
   "source": [
    "import pandas as pd\n",
    "import os\n",
    "import matplotlib.pyplot as plt\n",
    "import morton"
   ]
  },
  {
   "cell_type": "markdown",
   "id": "aeba8754",
   "metadata": {},
   "source": [
    "# Initialize"
   ]
  },
  {
   "cell_type": "markdown",
   "id": "7382201d",
   "metadata": {},
   "source": [
    "## Constants"
   ]
  },
  {
   "cell_type": "code",
   "execution_count": 63,
   "id": "720e6820",
   "metadata": {},
   "outputs": [],
   "source": [
    "LANE_CHANGE_DATA_DIR = './data/lane_changes/'\n",
    "OFFSET = 10\n",
    "FACTOR_MULTIPLY = 10000"
   ]
  },
  {
   "cell_type": "markdown",
   "id": "2fccab0b",
   "metadata": {},
   "source": [
    "## Dataframes"
   ]
  },
  {
   "cell_type": "code",
   "execution_count": 64,
   "id": "f6f98d9d",
   "metadata": {},
   "outputs": [],
   "source": [
    "laneChangeDFs = [] # Will contain the dataframes for all lane changes.\n",
    "\n",
    "# Count number of files (= amt of lane changes)\n",
    "numOfFiles = len([f for f in os.listdir(LANE_CHANGE_DATA_DIR) if os.path.isfile(os.path.join(LANE_CHANGE_DATA_DIR, f))])\n",
    "\n",
    "\n",
    "# Import each csv into a dataframe\n",
    "for i in range(numOfFiles):\n",
    "    temp_df = pd.read_csv(LANE_CHANGE_DATA_DIR + \"lane_change_\" + str(i+1) + \".csv\", sep=\";\")\n",
    "    laneChangeDFs.append(temp_df)"
   ]
  },
  {
   "cell_type": "code",
   "execution_count": 65,
   "id": "9aa3922b",
   "metadata": {},
   "outputs": [
    {
     "data": {
      "text/html": [
       "<div>\n",
       "<style scoped>\n",
       "    .dataframe tbody tr th:only-of-type {\n",
       "        vertical-align: middle;\n",
       "    }\n",
       "\n",
       "    .dataframe tbody tr th {\n",
       "        vertical-align: top;\n",
       "    }\n",
       "\n",
       "    .dataframe thead th {\n",
       "        text-align: right;\n",
       "    }\n",
       "</style>\n",
       "<table border=\"1\" class=\"dataframe\">\n",
       "  <thead>\n",
       "    <tr style=\"text-align: right;\">\n",
       "      <th></th>\n",
       "      <th>lat</th>\n",
       "      <th>lon</th>\n",
       "      <th>speed</th>\n",
       "      <th>accel_lon</th>\n",
       "      <th>accel_trans</th>\n",
       "      <th>accel_down</th>\n",
       "      <th>ts</th>\n",
       "    </tr>\n",
       "  </thead>\n",
       "  <tbody>\n",
       "    <tr>\n",
       "      <th>0</th>\n",
       "      <td>57.718799</td>\n",
       "      <td>11.958346</td>\n",
       "      <td>0.116811</td>\n",
       "      <td>-0.006275</td>\n",
       "      <td>0.003880</td>\n",
       "      <td>-0.004212</td>\n",
       "      <td>1646666793703590</td>\n",
       "    </tr>\n",
       "    <tr>\n",
       "      <th>1</th>\n",
       "      <td>57.718799</td>\n",
       "      <td>11.958346</td>\n",
       "      <td>0.118460</td>\n",
       "      <td>-0.047546</td>\n",
       "      <td>0.064689</td>\n",
       "      <td>0.067094</td>\n",
       "      <td>1646666793753601</td>\n",
       "    </tr>\n",
       "    <tr>\n",
       "      <th>2</th>\n",
       "      <td>57.718799</td>\n",
       "      <td>11.958346</td>\n",
       "      <td>0.118331</td>\n",
       "      <td>0.036616</td>\n",
       "      <td>-0.010786</td>\n",
       "      <td>-0.050694</td>\n",
       "      <td>1646666793803626</td>\n",
       "    </tr>\n",
       "    <tr>\n",
       "      <th>3</th>\n",
       "      <td>57.718799</td>\n",
       "      <td>11.958346</td>\n",
       "      <td>0.119788</td>\n",
       "      <td>-0.102828</td>\n",
       "      <td>0.029938</td>\n",
       "      <td>0.083196</td>\n",
       "      <td>1646666793853591</td>\n",
       "    </tr>\n",
       "    <tr>\n",
       "      <th>4</th>\n",
       "      <td>57.718799</td>\n",
       "      <td>11.958346</td>\n",
       "      <td>0.119016</td>\n",
       "      <td>0.039307</td>\n",
       "      <td>-0.071447</td>\n",
       "      <td>-0.126803</td>\n",
       "      <td>1646666793903600</td>\n",
       "    </tr>\n",
       "    <tr>\n",
       "      <th>...</th>\n",
       "      <td>...</td>\n",
       "      <td>...</td>\n",
       "      <td>...</td>\n",
       "      <td>...</td>\n",
       "      <td>...</td>\n",
       "      <td>...</td>\n",
       "      <td>...</td>\n",
       "    </tr>\n",
       "    <tr>\n",
       "      <th>345</th>\n",
       "      <td>57.719002</td>\n",
       "      <td>11.956873</td>\n",
       "      <td>10.502030</td>\n",
       "      <td>1.272900</td>\n",
       "      <td>0.097373</td>\n",
       "      <td>0.266211</td>\n",
       "      <td>1646666810954140</td>\n",
       "    </tr>\n",
       "    <tr>\n",
       "      <th>346</th>\n",
       "      <td>57.719003</td>\n",
       "      <td>11.956865</td>\n",
       "      <td>10.442500</td>\n",
       "      <td>1.212828</td>\n",
       "      <td>0.109282</td>\n",
       "      <td>0.064465</td>\n",
       "      <td>1646666811004191</td>\n",
       "    </tr>\n",
       "    <tr>\n",
       "      <th>347</th>\n",
       "      <td>57.719005</td>\n",
       "      <td>11.956856</td>\n",
       "      <td>10.379370</td>\n",
       "      <td>1.141930</td>\n",
       "      <td>0.053132</td>\n",
       "      <td>0.029888</td>\n",
       "      <td>1646666811054149</td>\n",
       "    </tr>\n",
       "    <tr>\n",
       "      <th>348</th>\n",
       "      <td>57.719006</td>\n",
       "      <td>11.956848</td>\n",
       "      <td>10.317210</td>\n",
       "      <td>1.224668</td>\n",
       "      <td>0.113335</td>\n",
       "      <td>0.232543</td>\n",
       "      <td>1646666811104176</td>\n",
       "    </tr>\n",
       "    <tr>\n",
       "      <th>349</th>\n",
       "      <td>57.719008</td>\n",
       "      <td>11.956840</td>\n",
       "      <td>10.255980</td>\n",
       "      <td>1.245987</td>\n",
       "      <td>0.201085</td>\n",
       "      <td>0.220415</td>\n",
       "      <td>1646666811154204</td>\n",
       "    </tr>\n",
       "  </tbody>\n",
       "</table>\n",
       "<p>350 rows × 7 columns</p>\n",
       "</div>"
      ],
      "text/plain": [
       "           lat        lon      speed  accel_lon  accel_trans  accel_down  \\\n",
       "0    57.718799  11.958346   0.116811  -0.006275     0.003880   -0.004212   \n",
       "1    57.718799  11.958346   0.118460  -0.047546     0.064689    0.067094   \n",
       "2    57.718799  11.958346   0.118331   0.036616    -0.010786   -0.050694   \n",
       "3    57.718799  11.958346   0.119788  -0.102828     0.029938    0.083196   \n",
       "4    57.718799  11.958346   0.119016   0.039307    -0.071447   -0.126803   \n",
       "..         ...        ...        ...        ...          ...         ...   \n",
       "345  57.719002  11.956873  10.502030   1.272900     0.097373    0.266211   \n",
       "346  57.719003  11.956865  10.442500   1.212828     0.109282    0.064465   \n",
       "347  57.719005  11.956856  10.379370   1.141930     0.053132    0.029888   \n",
       "348  57.719006  11.956848  10.317210   1.224668     0.113335    0.232543   \n",
       "349  57.719008  11.956840  10.255980   1.245987     0.201085    0.220415   \n",
       "\n",
       "                   ts  \n",
       "0    1646666793703590  \n",
       "1    1646666793753601  \n",
       "2    1646666793803626  \n",
       "3    1646666793853591  \n",
       "4    1646666793903600  \n",
       "..                ...  \n",
       "345  1646666810954140  \n",
       "346  1646666811004191  \n",
       "347  1646666811054149  \n",
       "348  1646666811104176  \n",
       "349  1646666811154204  \n",
       "\n",
       "[350 rows x 7 columns]"
      ]
     },
     "execution_count": 65,
     "metadata": {},
     "output_type": "execute_result"
    }
   ],
   "source": [
    "laneChangeDFs[0] # test to see if a dataframe is correct.\n",
    "    "
   ]
  },
  {
   "cell_type": "markdown",
   "id": "40c46ad3",
   "metadata": {},
   "source": [
    "## Morton setup"
   ]
  },
  {
   "cell_type": "code",
   "execution_count": 66,
   "id": "cd31787d",
   "metadata": {},
   "outputs": [],
   "source": [
    "for df in laneChangeDFs:\n",
    "    df['accel_lon'] = df['accel_lon'].add(OFFSET)\n",
    "    df['accel_trans'] = df['accel_trans'].add(OFFSET)\n",
    "    df['accel_down'] = df['accel_down'].add(OFFSET)\n",
    "\n",
    "    df['accel_lon'] = df.apply(lambda x: int(x['accel_lon']*FACTOR_MULTIPLY) , axis=1)\n",
    "    df['accel_trans'] = df.apply(lambda x: int(x['accel_trans']*FACTOR_MULTIPLY) , axis=1)\n",
    "    df['accel_down'] = df.apply(lambda x: int(x['accel_down']*FACTOR_MULTIPLY) , axis=1)\n",
    "\n"
   ]
  },
  {
   "cell_type": "code",
   "execution_count": 67,
   "id": "6399d9db",
   "metadata": {},
   "outputs": [
    {
     "data": {
      "text/html": [
       "<div>\n",
       "<style scoped>\n",
       "    .dataframe tbody tr th:only-of-type {\n",
       "        vertical-align: middle;\n",
       "    }\n",
       "\n",
       "    .dataframe tbody tr th {\n",
       "        vertical-align: top;\n",
       "    }\n",
       "\n",
       "    .dataframe thead th {\n",
       "        text-align: right;\n",
       "    }\n",
       "</style>\n",
       "<table border=\"1\" class=\"dataframe\">\n",
       "  <thead>\n",
       "    <tr style=\"text-align: right;\">\n",
       "      <th></th>\n",
       "      <th>lat</th>\n",
       "      <th>lon</th>\n",
       "      <th>speed</th>\n",
       "      <th>accel_lon</th>\n",
       "      <th>accel_trans</th>\n",
       "      <th>accel_down</th>\n",
       "      <th>ts</th>\n",
       "      <th>morton</th>\n",
       "    </tr>\n",
       "  </thead>\n",
       "  <tbody>\n",
       "    <tr>\n",
       "      <th>0</th>\n",
       "      <td>57.718799</td>\n",
       "      <td>11.958346</td>\n",
       "      <td>0.116811</td>\n",
       "      <td>99937</td>\n",
       "      <td>100038</td>\n",
       "      <td>99957</td>\n",
       "      <td>1646666793703590</td>\n",
       "      <td>16110105641</td>\n",
       "    </tr>\n",
       "    <tr>\n",
       "      <th>1</th>\n",
       "      <td>57.718799</td>\n",
       "      <td>11.958346</td>\n",
       "      <td>0.118460</td>\n",
       "      <td>99524</td>\n",
       "      <td>100646</td>\n",
       "      <td>100670</td>\n",
       "      <td>1646666793753601</td>\n",
       "      <td>16115718200</td>\n",
       "    </tr>\n",
       "    <tr>\n",
       "      <th>2</th>\n",
       "      <td>57.718799</td>\n",
       "      <td>11.958346</td>\n",
       "      <td>0.118331</td>\n",
       "      <td>100366</td>\n",
       "      <td>99892</td>\n",
       "      <td>99493</td>\n",
       "      <td>1646666793803626</td>\n",
       "      <td>16112945780</td>\n",
       "    </tr>\n",
       "    <tr>\n",
       "      <th>3</th>\n",
       "      <td>57.718799</td>\n",
       "      <td>11.958346</td>\n",
       "      <td>0.119788</td>\n",
       "      <td>98971</td>\n",
       "      <td>100299</td>\n",
       "      <td>100831</td>\n",
       "      <td>1646666793853591</td>\n",
       "      <td>16109199823</td>\n",
       "    </tr>\n",
       "    <tr>\n",
       "      <th>4</th>\n",
       "      <td>57.718799</td>\n",
       "      <td>11.958346</td>\n",
       "      <td>0.119016</td>\n",
       "      <td>100393</td>\n",
       "      <td>99285</td>\n",
       "      <td>98731</td>\n",
       "      <td>1646666793903600</td>\n",
       "      <td>16111019619</td>\n",
       "    </tr>\n",
       "    <tr>\n",
       "      <th>...</th>\n",
       "      <td>...</td>\n",
       "      <td>...</td>\n",
       "      <td>...</td>\n",
       "      <td>...</td>\n",
       "      <td>...</td>\n",
       "      <td>...</td>\n",
       "      <td>...</td>\n",
       "      <td>...</td>\n",
       "    </tr>\n",
       "    <tr>\n",
       "      <th>345</th>\n",
       "      <td>57.719002</td>\n",
       "      <td>11.956873</td>\n",
       "      <td>10.502030</td>\n",
       "      <td>112729</td>\n",
       "      <td>100973</td>\n",
       "      <td>102662</td>\n",
       "      <td>1646666810954140</td>\n",
       "      <td>16203135459</td>\n",
       "    </tr>\n",
       "    <tr>\n",
       "      <th>346</th>\n",
       "      <td>57.719003</td>\n",
       "      <td>11.956865</td>\n",
       "      <td>10.442500</td>\n",
       "      <td>112128</td>\n",
       "      <td>101092</td>\n",
       "      <td>100644</td>\n",
       "      <td>1646666811004191</td>\n",
       "      <td>16200280096</td>\n",
       "    </tr>\n",
       "    <tr>\n",
       "      <th>347</th>\n",
       "      <td>57.719005</td>\n",
       "      <td>11.956856</td>\n",
       "      <td>10.379370</td>\n",
       "      <td>111419</td>\n",
       "      <td>100531</td>\n",
       "      <td>100298</td>\n",
       "      <td>1646666811054149</td>\n",
       "      <td>16198766415</td>\n",
       "    </tr>\n",
       "    <tr>\n",
       "      <th>348</th>\n",
       "      <td>57.719006</td>\n",
       "      <td>11.956848</td>\n",
       "      <td>10.317210</td>\n",
       "      <td>112246</td>\n",
       "      <td>101133</td>\n",
       "      <td>102325</td>\n",
       "      <td>1646666811104176</td>\n",
       "      <td>16200373686</td>\n",
       "    </tr>\n",
       "    <tr>\n",
       "      <th>349</th>\n",
       "      <td>57.719008</td>\n",
       "      <td>11.956840</td>\n",
       "      <td>10.255980</td>\n",
       "      <td>112459</td>\n",
       "      <td>102010</td>\n",
       "      <td>102204</td>\n",
       "      <td>1646666811154204</td>\n",
       "      <td>16202414797</td>\n",
       "    </tr>\n",
       "  </tbody>\n",
       "</table>\n",
       "<p>350 rows × 8 columns</p>\n",
       "</div>"
      ],
      "text/plain": [
       "           lat        lon      speed  accel_lon  accel_trans  accel_down  \\\n",
       "0    57.718799  11.958346   0.116811      99937       100038       99957   \n",
       "1    57.718799  11.958346   0.118460      99524       100646      100670   \n",
       "2    57.718799  11.958346   0.118331     100366        99892       99493   \n",
       "3    57.718799  11.958346   0.119788      98971       100299      100831   \n",
       "4    57.718799  11.958346   0.119016     100393        99285       98731   \n",
       "..         ...        ...        ...        ...          ...         ...   \n",
       "345  57.719002  11.956873  10.502030     112729       100973      102662   \n",
       "346  57.719003  11.956865  10.442500     112128       101092      100644   \n",
       "347  57.719005  11.956856  10.379370     111419       100531      100298   \n",
       "348  57.719006  11.956848  10.317210     112246       101133      102325   \n",
       "349  57.719008  11.956840  10.255980     112459       102010      102204   \n",
       "\n",
       "                   ts       morton  \n",
       "0    1646666793703590  16110105641  \n",
       "1    1646666793753601  16115718200  \n",
       "2    1646666793803626  16112945780  \n",
       "3    1646666793853591  16109199823  \n",
       "4    1646666793903600  16111019619  \n",
       "..                ...          ...  \n",
       "345  1646666810954140  16203135459  \n",
       "346  1646666811004191  16200280096  \n",
       "347  1646666811054149  16198766415  \n",
       "348  1646666811104176  16200373686  \n",
       "349  1646666811154204  16202414797  \n",
       "\n",
       "[350 rows x 8 columns]"
      ]
     },
     "execution_count": 67,
     "metadata": {},
     "output_type": "execute_result"
    }
   ],
   "source": [
    "m = morton.Morton(dimensions=2, bits=18)\n",
    "\n",
    "def set_value(row):\n",
    "    return m.pack(int(row['accel_lon']), int(row['accel_trans']))\n",
    "\n",
    "for df in laneChangeDFs:\n",
    "    df['morton'] = df.apply(set_value, axis=1)\n",
    "\n",
    "laneChangeDFs[0]"
   ]
  },
  {
   "cell_type": "code",
   "execution_count": null,
   "id": "e24a2d9f",
   "metadata": {},
   "outputs": [],
   "source": []
  },
  {
   "cell_type": "markdown",
   "id": "2600f1e4",
   "metadata": {},
   "source": [
    "# CSPs"
   ]
  },
  {
   "cell_type": "code",
   "execution_count": 76,
   "id": "bd82e2da",
   "metadata": {
    "scrolled": false
   },
   "outputs": [
    {
     "name": "stdout",
     "output_type": "stream",
     "text": [
      "Lane change file - 1: \n"
     ]
    },
    {
     "data": {
      "image/png": "[encoded data removed]",
      "text/plain": [
       "<Figure size 640x480 with 1 Axes>"
      ]
     },
     "metadata": {},
     "output_type": "display_data"
    },
    {
     "name": "stdout",
     "output_type": "stream",
     "text": [
      "-----------------------------\n",
      "Lane change file - 2: \n"
     ]
    },
    {
     "data": {
      "image/png": "[encoded data removed]",
      "text/plain": [
       "<Figure size 640x480 with 1 Axes>"
      ]
     },
     "metadata": {},
     "output_type": "display_data"
    },
    {
     "name": "stdout",
     "output_type": "stream",
     "text": [
      "-----------------------------\n",
      "Lane change file - 3: \n"
     ]
    },
    {
     "data": {
      "image/png": "[encoded data removed]",
      "text/plain": [
       "<Figure size 640x480 with 1 Axes>"
      ]
     },
     "metadata": {},
     "output_type": "display_data"
    },
    {
     "name": "stdout",
     "output_type": "stream",
     "text": [
      "-----------------------------\n",
      "Lane change file - 4: \n"
     ]
    },
    {
     "data": {
      "image/png": "[encoded data removed]",
      "text/plain": [
       "<Figure size 640x480 with 1 Axes>"
      ]
     },
     "metadata": {},
     "output_type": "display_data"
    },
    {
     "name": "stdout",
     "output_type": "stream",
     "text": [
      "-----------------------------\n",
      "Lane change file - 5: \n"
     ]
    },
    {
     "data": {
      "image/png": "[encoded data removed]",
      "text/plain": [
       "<Figure size 640x480 with 1 Axes>"
      ]
     },
     "metadata": {},
     "output_type": "display_data"
    },
    {
     "name": "stdout",
     "output_type": "stream",
     "text": [
      "-----------------------------\n",
      "Lane change file - 6: \n"
     ]
    },
    {
     "data": {
      "image/png": "[encoded data removed]",
      "text/plain": [
       "<Figure size 640x480 with 1 Axes>"
      ]
     },
     "metadata": {},
     "output_type": "display_data"
    },
    {
     "name": "stdout",
     "output_type": "stream",
     "text": [
      "-----------------------------\n",
      "Lane change file - 7: \n"
     ]
    },
    {
     "data": {
      "image/png": "[encoded data removed]",
      "text/plain": [
       "<Figure size 640x480 with 1 Axes>"
      ]
     },
     "metadata": {},
     "output_type": "display_data"
    },
    {
     "name": "stdout",
     "output_type": "stream",
     "text": [
      "-----------------------------\n",
      "Lane change file - 8: \n"
     ]
    },
    {
     "data": {
      "image/png": "[encoded data removed]",
      "text/plain": [
       "<Figure size 640x480 with 1 Axes>"
      ]
     },
     "metadata": {},
     "output_type": "display_data"
    },
    {
     "name": "stdout",
     "output_type": "stream",
     "text": [
      "-----------------------------\n",
      "Lane change file - 9: \n"
     ]
    },
    {
     "data": {
      "image/png": "[encoded data removed]",
      "text/plain": [
       "<Figure size 640x480 with 1 Axes>"
      ]
     },
     "metadata": {},
     "output_type": "display_data"
    },
    {
     "name": "stdout",
     "output_type": "stream",
     "text": [
      "-----------------------------\n"
     ]
    }
   ],
   "source": [
    "lcCounter = 1 # used to track which lane change the CSP corresponds to.\n",
    "\n",
    "for df in laneChangeDFs:\n",
    "    print(\"Lane change file - \" + str(lcCounter) + \": \")\n",
    "    \n",
    "    min = df['morton'].min()\n",
    "    max = df['morton'].max()\n",
    "    max = 30000000000\n",
    "    \n",
    "    plt.hist(df['morton'], bins=200)\n",
    "    plt.xlim(0,max)\n",
    "    plt.ylim(0,1)\n",
    "    plt.show()\n",
    "    \n",
    "    print(\"-----------------------------\")\n",
    "    \n",
    "    lcCounter += 1"
   ]
  },
  {
   "cell_type": "code",
   "execution_count": null,
   "id": "d9d8277d",
   "metadata": {},
   "outputs": [],
   "source": []
  }
 ],
 "metadata": {
  "kernelspec": {
   "display_name": "Python 3 (ipykernel)",
   "language": "python",
   "name": "python3"
  },
  "language_info": {
   "codemirror_mode": {
    "name": "ipython",
    "version": 3
   },
   "file_extension": ".py",
   "mimetype": "text/x-python",
   "name": "python",
   "nbconvert_exporter": "python",
   "pygments_lexer": "ipython3",
   "version": "3.9.16"
  }
 },
 "nbformat": 4,
 "nbformat_minor": 5
}
