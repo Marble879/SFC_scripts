{
 "cells": [
  {
   "cell_type": "code",
   "execution_count": null,
   "metadata": {},
   "outputs": [],
   "source": [
    "import pandas as pd\n",
    "import matplotlib.pyplot as plt\n",
    "import morton\n",
    "import numpy as np\n",
    "import os"
   ]
  },
  {
   "attachments": {},
   "cell_type": "markdown",
   "metadata": {},
   "source": [
    "### Constants and functions"
   ]
  },
  {
   "cell_type": "code",
   "execution_count": null,
   "metadata": {},
   "outputs": [],
   "source": [
    "OFFSET = 10\n",
    "FACTOR_MULTIPLY = 10000\n",
    "\n",
    "m = morton.Morton(dimensions=2, bits=18)\n",
    "\n",
    "def set_value(row):\n",
    "    return m.pack(int(row['IMULatAcceleration']), int(row['SteeringWhlAngle']))"
   ]
  },
  {
   "cell_type": "code",
   "execution_count": null,
   "metadata": {},
   "outputs": [],
   "source": [
    "All_LCs_dir = \"./data/2022-09-21_LaneChanges/Extracted_CleanLaneChanges/All_LCs/\"\n",
    "Left_LCs_dir = \"./data/2022-09-21_LaneChanges/Extracted_CleanLaneChanges/Left_LCs/\"\n",
    "Right_LCs_dir = \"./data/2022-09-21_LaneChanges/Extracted_CleanLaneChanges/Right_LCs/\""
   ]
  },
  {
   "attachments": {},
   "cell_type": "markdown",
   "metadata": {},
   "source": [
    "### Find lane changes to manipulate based on amplitude"
   ]
  },
  {
   "cell_type": "code",
   "execution_count": 165,
   "metadata": {},
   "outputs": [
    {
     "data": {
      "text/plain": [
       "3.9736328125"
      ]
     },
     "execution_count": 165,
     "metadata": {},
     "output_type": "execute_result"
    }
   ],
   "source": [
    "chosen_directory = Right_LCs_dir\n",
    "\n",
    "LCs_SteeringWhAngle_amplitudes = {}\n",
    "\n",
    "# iterate through LCs individually\n",
    "for file in os.listdir(chosen_directory):\n",
    "    df = pd.read_csv(chosen_directory + file, sep=';')\n",
    "    # for each extract:\n",
    "    min_steering = df['SteeringWhlAngle'].min()\n",
    "    max_steering = df['SteeringWhlAngle'].max()\n",
    "    # measure amplitude between min and max of LC\n",
    "    steering_amplitude = max_steering + abs(min_steering) # use abs() to get positive out of the negative value\n",
    "    # store amplitudes in dictionary (key-value pair)\n",
    "    LCs_SteeringWhAngle_amplitudes[file] = steering_amplitude\n",
    "\n",
    "sorted_amplitudes = sorted(LCs_SteeringWhAngle_amplitudes.values())\n",
    "# take lowest, mid, and highest amplitude\n",
    "min_amp = sorted_amplitudes[0]\n",
    "mid_amp = sorted_amplitudes[int(len(sorted_amplitudes)/2)]\n",
    "max_amp = sorted_amplitudes[len(sorted_amplitudes)-1]\n",
    "# find LCs to manipulate\n",
    "for file, amp in LCs_SteeringWhAngle_amplitudes.items():\n",
    "    if(amp == min_amp):\n",
    "        LC_min_amp = file\n",
    "    elif(amp == mid_amp):\n",
    "        LC_mid_amp = file\n",
    "    elif(amp == max_amp):\n",
    "        LC_max_amp = file"
   ]
  },
  {
   "attachments": {},
   "cell_type": "markdown",
   "metadata": {},
   "source": [
    "### Coefficients for amplitude manipulation"
   ]
  },
  {
   "cell_type": "code",
   "execution_count": null,
   "metadata": {},
   "outputs": [],
   "source": [
    "# Starting from mid, we calculate coefficient for amplitude manipulation\n",
    "# increase amplitude coefficient:\n",
    "# take amplitude from the mid and max LCs\n",
    "average_amp = (mid_amp + max_amp) / 2\n",
    "increase_amp_coefficient = average_amp / mid_amp\n",
    "\n",
    "# decrease amplitude coefficient:\n",
    "# take amplitude from the mid and min LCs\n",
    "average_amp = (mid_amp + min_amp) / 2\n",
    "decrease_amp_coefficient = average_amp / mid_amp"
   ]
  },
  {
   "attachments": {},
   "cell_type": "markdown",
   "metadata": {},
   "source": [
    "### Manipulating the LC, and Morton encoding"
   ]
  },
  {
   "cell_type": "code",
   "execution_count": null,
   "metadata": {},
   "outputs": [],
   "source": [
    "# create df for mid amplitude LC\n",
    "df_LC_mid_amp = pd.read_csv(chosen_directory + LC_mid_amp, sep=';')\n",
    "# make a copy for the manipulated versions\n",
    "df_amp_increased = df_LC_mid_amp.copy()\n",
    "df_amp_decreased = df_LC_mid_amp.copy()"
   ]
  },
  {
   "cell_type": "code",
   "execution_count": null,
   "metadata": {},
   "outputs": [],
   "source": [
    "# manipulate the LC by multiplying each data point by coefficient\n",
    "df_amp_increased['SteeringWhlAngle'] = df_amp_increased['SteeringWhlAngle'].apply(lambda x: x*increase_amp_coefficient)\n",
    "df_amp_increased_no_constants = df_amp_increased.copy()\n",
    "\n",
    "# Apply constants for Morton encoding\n",
    "df_amp_increased['IMULatAcceleration']=df_amp_increased['IMULatAcceleration'].add(OFFSET)\n",
    "df_amp_increased['SteeringWhlAngle']=df_amp_increased['SteeringWhlAngle'].add(OFFSET)\n",
    "df_amp_increased['IMULatAcceleration'] = df_amp_increased.apply(lambda x: int(x['IMULatAcceleration']*FACTOR_MULTIPLY) , axis=1)\n",
    "df_amp_increased['SteeringWhlAngle'] = df_amp_increased.apply(lambda x: int(x['SteeringWhlAngle']*FACTOR_MULTIPLY) , axis=1)\n",
    "\n",
    "# Morton encoding\n",
    "df_amp_increased['morton'] = df_amp_increased.apply(set_value, axis=1)"
   ]
  },
  {
   "cell_type": "code",
   "execution_count": null,
   "metadata": {},
   "outputs": [],
   "source": [
    "# manipulate the LC by multiplying each data point by coefficient\n",
    "df_amp_decreased['SteeringWhlAngle'] = df_amp_decreased['SteeringWhlAngle'].apply(lambda x: x*decrease_amp_coefficient)\n",
    "df_amp_decreased_no_constants = df_amp_decreased.copy()\n",
    "\n",
    "# Apply constants for Morton encoding\n",
    "df_amp_decreased['IMULatAcceleration']=df_amp_decreased['IMULatAcceleration'].add(OFFSET)\n",
    "df_amp_decreased['SteeringWhlAngle']=df_amp_decreased['SteeringWhlAngle'].add(OFFSET)\n",
    "df_amp_decreased['IMULatAcceleration'] = df_amp_decreased.apply(lambda x: int(x['IMULatAcceleration']*FACTOR_MULTIPLY) , axis=1)\n",
    "df_amp_decreased['SteeringWhlAngle'] = df_amp_decreased.apply(lambda x: int(x['SteeringWhlAngle']*FACTOR_MULTIPLY) , axis=1)\n",
    "\n",
    "# Morton encoding\n",
    "df_amp_decreased['morton'] = df_amp_decreased.apply(set_value, axis=1)"
   ]
  },
  {
   "attachments": {},
   "cell_type": "markdown",
   "metadata": {},
   "source": [
    "### Plots"
   ]
  },
  {
   "cell_type": "code",
   "execution_count": null,
   "metadata": {},
   "outputs": [],
   "source": [
    "# SFC over time plots\n",
    "\n",
    "fig, ax = plt.subplots()\n",
    "ax.hist(df_amp_increased['morton'], bins=200, color='lightgray')\n",
    "ax.set_ylim([0,1])\n",
    "plt.gca().set_yticks([]) \n",
    "ax2 = ax.twinx()\n",
    "ax2.scatter(x=df_amp_increased['morton'],y=df_amp_increased['ts'], c='black', s=0.5)\n",
    "ax.set_xlabel('Morton value')\n",
    "ax2.set_title(\"SFC Over Time ontop CSP plot\")\n",
    "ax2.set_ylabel('Timestamp (microseconds scaled)')\n",
    "plt.show()\n"
   ]
  },
  {
   "cell_type": "code",
   "execution_count": null,
   "metadata": {},
   "outputs": [],
   "source": [
    "# Plot results\n",
    "\n",
    "fig, ax = plt.subplots()\n",
    "ax.hist(df_amp_decreased['morton'], bins=200, color='lightgray')\n",
    "ax.set_ylim([0,1])\n",
    "plt.gca().set_yticks([]) \n",
    "ax2 = ax.twinx()\n",
    "ax2.scatter(x=df_amp_decreased['morton'],y=df_amp_decreased['ts'], c='black', s=0.5)\n",
    "ax.set_xlabel('Morton value')\n",
    "ax2.set_title(\"SFC Over Time ontop CSP plot\")\n",
    "ax2.set_ylabel('Timestamp (microseconds scaled)')\n",
    "plt.show()"
   ]
  },
  {
   "cell_type": "code",
   "execution_count": null,
   "metadata": {},
   "outputs": [],
   "source": [
    "plt.plot(df_amp_decreased_no_constants['SteeringWhlAngle'], df_amp_decreased_no_constants['ts'], label = \"LC_amp_decreased\")\n",
    "plt.plot(df_LC_mid_amp['SteeringWhlAngle'], df_LC_mid_amp['ts'], label = \"LC_mid_amp\")\n",
    "plt.plot(df_amp_increased_no_constants['SteeringWhlAngle'],df_amp_increased_no_constants['ts'], label = \"LC_amp_increased\")"
   ]
  },
  {
   "attachments": {},
   "cell_type": "markdown",
   "metadata": {},
   "source": [
    "### Manipulating LC 27 (for simulator generation)"
   ]
  },
  {
   "cell_type": "code",
   "execution_count": 170,
   "metadata": {},
   "outputs": [
    {
     "data": {
      "text/plain": [
       "[0.5929123125851886,\n",
       " 0.4213755247013239,\n",
       " 0.3268219383921864,\n",
       " 0.2669257516874617,\n",
       " 0.22558340535868626]"
      ]
     },
     "execution_count": 170,
     "metadata": {},
     "output_type": "execute_result"
    }
   ],
   "source": [
    "# Creating the coefficients\n",
    "\n",
    "# LC 27 is the reference lane change\n",
    "LC27 = \"./data/2022-09-21_LaneChanges/SteeringWheelAngle_Separated/50Hz/SteeringWheelAngle-50Hz-27.csv\"\n",
    "df_LC27 = pd.read_csv(LC27, sep=';')\n",
    "\n",
    "extra_amp = 0.5\n",
    "step = 0.35\n",
    "\n",
    "# Make 5 LCs with harsher steering (can go harsher than harshest)\n",
    "# List of desired increase amplitudes\n",
    "desired_increase_amplitudes = np.arange(mid_amp, max_amp +extra_amp, step).tolist()\n",
    "# List of coefficients to achieve those amplitudes\n",
    "increase_amp_coefficients = []\n",
    "\n",
    "for i in range(1, len(desired_increase_amplitudes)):\n",
    "    # Populate the list by dividing the current desired amplitude by the original one (index 0)\n",
    "    increase_amp_coefficients.append(desired_increase_amplitudes[i] / desired_increase_amplitudes[0])\n",
    "    \n",
    "# Make 5 LCs with less harsh steering\n",
    "# List of desired decrease amplitudes\n",
    "desired_decrease_amplitudes = np.arange(min_amp-extra_amp, mid_amp, step).tolist()\n",
    "# List of coefficients to achieve those amplitudes\n",
    "decrease_amp_coefficients = []\n",
    "\n",
    "for i in range(1, len(desired_decrease_amplitudes)):\n",
    "    # Populate the list by dividing the original amplitude by the current desired one\n",
    "    decrease_amp_coefficients.append(desired_decrease_amplitudes[0] / desired_decrease_amplitudes[i])\n",
    "desired_increase_amplitudes"
   ]
  },
  {
   "cell_type": "code",
   "execution_count": 159,
   "metadata": {},
   "outputs": [],
   "source": [
    "# Lists that will contain manipulated dfs\n",
    "df_LC27_increased_arr = []\n",
    "df_LC27_decreased_arr = []"
   ]
  },
  {
   "cell_type": "code",
   "execution_count": 160,
   "metadata": {},
   "outputs": [],
   "source": [
    "# Manipulating steering by increase\n",
    "for i in range(0, len(increase_amp_coefficients)):\n",
    "    curr_df = df_LC27.copy()\n",
    "    # manipulate the LC by multiplying each data point by coefficient\n",
    "    curr_df['SteeringWhlAngle'] = curr_df['SteeringWhlAngle'].apply(lambda x: x*increase_amp_coefficients[i])\n",
    "\n",
    "    # Save in list of all increased versions\n",
    "    df_LC27_increased_arr.append(curr_df)"
   ]
  },
  {
   "cell_type": "code",
   "execution_count": 161,
   "metadata": {},
   "outputs": [],
   "source": [
    "# Manipulating steering by decrease\n",
    "for i in range(0, len(decrease_amp_coefficients)):\n",
    "    curr_df = df_LC27.copy()\n",
    "    # manipulate the LC by multiplying each data point by coefficient\n",
    "    curr_df['SteeringWhlAngle'] = curr_df['SteeringWhlAngle'].apply(lambda x: x*decrease_amp_coefficients[i])\n",
    "\n",
    "    # Save in list of all decreased versions\n",
    "    df_LC27_decreased_arr.append(curr_df)"
   ]
  },
  {
   "cell_type": "code",
   "execution_count": 166,
   "metadata": {},
   "outputs": [],
   "source": [
    "# Output to csv\n",
    "# LCs with increased steering\n",
    "for i in range(0, len(df_LC27_increased_arr)):\n",
    "    df_LC27_increased_arr[i].to_csv('./data/lane_changes_manipulated/LC27_50Hz_steering_increased_' + str(i), sep=';', index=False)\n",
    "\n",
    "# LCs with decreased steering\n",
    "for i in range(0, len(df_LC27_decreased_arr)):\n",
    "    df_LC27_decreased_arr[i].to_csv(\"./data/lane_changes_manipulated/LC27_50Hz_steering_decreased_\" + str(i), sep=';', index=False)\n"
   ]
  }
 ],
 "metadata": {
  "kernelspec": {
   "display_name": "Python 3",
   "language": "python",
   "name": "python3"
  },
  "language_info": {
   "codemirror_mode": {
    "name": "ipython",
    "version": 3
   },
   "file_extension": ".py",
   "mimetype": "text/x-python",
   "name": "python",
   "nbconvert_exporter": "python",
   "pygments_lexer": "ipython3",
   "version": "3.9.0"
  },
  "orig_nbformat": 4
 },
 "nbformat": 4,
 "nbformat_minor": 2
}
