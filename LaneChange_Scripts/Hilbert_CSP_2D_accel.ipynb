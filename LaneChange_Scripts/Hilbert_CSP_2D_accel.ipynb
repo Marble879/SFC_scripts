{
 "cells": [
  {
   "cell_type": "code",
   "execution_count": null,
   "id": "de4393f1-1170-4096-aa86-f8e7849f0c82",
   "metadata": {},
   "outputs": [],
   "source": [
    "import pandas as pd\n",
    "import os\n",
    "import matplotlib.pyplot as plt\n",
    "from hilbertcurve.hilbertcurve import HilbertCurve"
   ]
  },
  {
   "attachments": {},
   "cell_type": "markdown",
   "id": "024133d1",
   "metadata": {},
   "source": [
    "### Constants"
   ]
  },
  {
   "cell_type": "code",
   "execution_count": null,
   "id": "b1c8edbe",
   "metadata": {},
   "outputs": [],
   "source": [
    "LANE_CHANGE_DATA_20HZ_DIR = './data/lane_changes/20hz/'\n",
    "LANE_CHANGE_DATA_10HZ_DIR = './data/lane_changes/10hz/'\n",
    "LANE_CHANGE_DATA_5HZ_DIR = './data/lane_changes/5hz/'\n",
    "LANE_CHANGE_HZ_DIRS = [LANE_CHANGE_DATA_20HZ_DIR, LANE_CHANGE_DATA_10HZ_DIR, LANE_CHANGE_DATA_5HZ_DIR]\n",
    "OFFSET = 10\n",
    "FACTOR_MULTIPLY = 10000\n",
    "SAMPLING_RATE_VARIATIONS = 3 # constant to denote the amount of different sampling rates that exist"
   ]
  },
  {
   "attachments": {},
   "cell_type": "markdown",
   "id": "331aa8d9",
   "metadata": {},
   "source": [
    "### Dataframes"
   ]
  },
  {
   "cell_type": "code",
   "execution_count": null,
   "id": "4a8b9ff8",
   "metadata": {},
   "outputs": [],
   "source": [
    "laneChange20HzDFs = [] # Will contain the dataframes for all lane changes.\n",
    "laneChange10HzDFs = [] # Will contain the dataframes for all lane changes.\n",
    "laneChange5HzDFs = [] # Will contain the dataframes for all lane changes.\n",
    "\n",
    "# Count number of files (= amt of lane changes)\n",
    "numOfFiles = len([f for f in os.listdir(LANE_CHANGE_DATA_20HZ_DIR) if os.path.isfile(os.path.join(LANE_CHANGE_DATA_20HZ_DIR, f))])\n",
    "\n",
    "# Import each csv into a dataframe\n",
    "for i in range(numOfFiles):\n",
    "    temp_20_df = pd.read_csv(LANE_CHANGE_DATA_20HZ_DIR + \"lane_change_\" + str(i+1) + \".csv\", sep=\";\")\n",
    "    temp_10_df = pd.read_csv(LANE_CHANGE_DATA_10HZ_DIR + \"lane_change_\" + str(i+1) + \".csv\", sep=\";\")\n",
    "    temp_5_df = pd.read_csv(LANE_CHANGE_DATA_5HZ_DIR + \"lane_change_\" + str(i+1) + \".csv\", sep=\";\")\n",
    "    laneChange20HzDFs.append(temp_20_df)\n",
    "    laneChange10HzDFs.append(temp_10_df)\n",
    "    laneChange5HzDFs.append(temp_5_df)\n",
    "\n",
    "# Append all arrays to a single array so that\n",
    "# future data processing can be done more efficiently.\n",
    "laneChangeDfs = [laneChange20HzDFs, laneChange10HzDFs, laneChange5HzDFs]"
   ]
  },
  {
   "attachments": {},
   "cell_type": "markdown",
   "id": "05c46893",
   "metadata": {},
   "source": [
    "### Apply constants"
   ]
  },
  {
   "cell_type": "code",
   "execution_count": null,
   "id": "f521a527-f230-4429-babe-a47ccf1903a2",
   "metadata": {},
   "outputs": [],
   "source": [
    "for laneChanges in laneChangeDfs:\n",
    "    for df in laneChanges:\n",
    "        df['accel_lon'] = df['accel_lon'].add(OFFSET)\n",
    "        df['accel_trans'] = df['accel_trans'].add(OFFSET)\n",
    "        df['accel_down'] = df['accel_down'].add(OFFSET)\n",
    "\n",
    "        df['accel_lon'] = df.apply(lambda x: int(x['accel_lon']*FACTOR_MULTIPLY) , axis=1)\n",
    "        df['accel_trans'] = df.apply(lambda x: int(x['accel_trans']*FACTOR_MULTIPLY) , axis=1)\n",
    "        df['accel_down'] = df.apply(lambda x: int(x['accel_down']*FACTOR_MULTIPLY) , axis=1)"
   ]
  },
  {
   "attachments": {},
   "cell_type": "markdown",
   "id": "380f2666",
   "metadata": {},
   "source": [
    "### Hilbert indexing"
   ]
  },
  {
   "cell_type": "code",
   "execution_count": null,
   "id": "e9173952",
   "metadata": {},
   "outputs": [],
   "source": [
    "resolution = 18; dimension = 2\n",
    "\n",
    "for laneChanges in laneChangeDfs:\n",
    "    for df in laneChanges:\n",
    "        points = df[['accel_lon', 'accel_trans']].to_numpy()\n",
    "        # Declare Hilbert curve\n",
    "        hilbert_curve = HilbertCurve(resolution, dimension, n_procs=-1)\n",
    "        # Generate Hilbert index\n",
    "        distances = hilbert_curve.distances_from_points(points)\n",
    "        # Add Hilbert index to 'hilbert' column\n",
    "        df['hilbert'] = pd.DataFrame(distances, columns = ['hilbert'] )"
   ]
  },
  {
   "attachments": {},
   "cell_type": "markdown",
   "id": "f3426ea4",
   "metadata": {},
   "source": [
    "### Hilbert Plots"
   ]
  },
  {
   "cell_type": "code",
   "execution_count": null,
   "id": "5c2773df",
   "metadata": {},
   "outputs": [],
   "source": [
    "lcCounter = 1 # used to track which lane change the CSP corresponds to.\n",
    "\n",
    "print(\"FIRST SET IS 20HZ, SECOND SET IS 10HZ, THIRD SET IS 5 HZ \")\n",
    "\n",
    "for laneChanges in laneChangeDfs:\n",
    "    lcCounter = 1\n",
    "    print(\"================================================================\")\n",
    "    print(\"================================================================\")\n",
    "    for df in laneChanges:\n",
    "        print(\"Lane change file - \" + str(lcCounter) + \": \")\n",
    "\n",
    "        plt.hist(df['hilbert'], bins=200)\n",
    "        plt.ylim(0,1)\n",
    "        plt.show()\n",
    "\n",
    "        print(\"-----------------------------\")\n",
    "\n",
    "        lcCounter += 1"
   ]
  }
 ],
 "metadata": {
  "kernelspec": {
   "display_name": "Python 3 (ipykernel)",
   "language": "python",
   "name": "python3"
  },
  "language_info": {
   "codemirror_mode": {
    "name": "ipython",
    "version": 3
   },
   "file_extension": ".py",
   "mimetype": "text/x-python",
   "name": "python",
   "nbconvert_exporter": "python",
   "pygments_lexer": "ipython3",
   "version": "3.9.0"
  }
 },
 "nbformat": 4,
 "nbformat_minor": 5
}
