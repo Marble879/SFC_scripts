{
 "cells": [
  {
   "cell_type": "code",
   "execution_count": null,
   "id": "de4393f1-1170-4096-aa86-f8e7849f0c82",
   "metadata": {},
   "outputs": [],
   "source": [
    "import pandas as pd\n",
    "import matplotlib.pyplot as plt\n",
    "from hilbertcurve.hilbertcurve import HilbertCurve"
   ]
  },
  {
   "attachments": {},
   "cell_type": "markdown",
   "id": "024133d1",
   "metadata": {},
   "source": [
    "### Constants"
   ]
  },
  {
   "cell_type": "code",
   "execution_count": null,
   "id": "b1c8edbe",
   "metadata": {},
   "outputs": [],
   "source": [
    "OFFSET = 10\n",
    "FACTOR_MULTIPLY = 10000"
   ]
  },
  {
   "attachments": {},
   "cell_type": "markdown",
   "id": "6a2ac0b7",
   "metadata": {},
   "source": [
    "### Read file"
   ]
  },
  {
   "cell_type": "code",
   "execution_count": null,
   "id": "71ad3c4c-0b78-47e2-a791-5d16ab1cb304",
   "metadata": {},
   "outputs": [],
   "source": [
    "df = pd.read_csv('data/lane_changes/20Hz/lane_change_1.csv', sep=';')\n"
   ]
  },
  {
   "cell_type": "code",
   "execution_count": null,
   "id": "427e3579",
   "metadata": {},
   "outputs": [],
   "source": [
    "# Reading other files for CSP analysis of different maneouvres\n",
    "# Plotting braking_cut shows us that certain parts of the resulting CSP are the same as with the lane change.\n",
    "#df = pd.read_csv('data/braking_cut.csv', sep=';')\n",
    "#df = pd.read_csv('data/braking_and_lanechange.csv', sep=';')"
   ]
  },
  {
   "attachments": {},
   "cell_type": "markdown",
   "id": "05c46893",
   "metadata": {},
   "source": [
    "### Apply constants"
   ]
  },
  {
   "cell_type": "code",
   "execution_count": null,
   "id": "f521a527-f230-4429-babe-a47ccf1903a2",
   "metadata": {},
   "outputs": [],
   "source": [
    "df['accel_lon']=df['accel_lon'].add(OFFSET)\n",
    "df['accel_trans']=df['accel_trans'].add(OFFSET)\n",
    "df['accel_down']=df['accel_down'].add(OFFSET)\n",
    "\n",
    "df['accel_lon'] = df.apply(lambda x: int(x['accel_lon']*FACTOR_MULTIPLY) , axis=1)\n",
    "df['accel_trans'] = df.apply(lambda x: int(x['accel_trans']*FACTOR_MULTIPLY) , axis=1)\n",
    "df['accel_down'] = df.apply(lambda x: int(x['accel_down']*FACTOR_MULTIPLY) , axis=1)"
   ]
  },
  {
   "attachments": {},
   "cell_type": "markdown",
   "id": "380f2666",
   "metadata": {},
   "source": [
    "### Hilbert indexing"
   ]
  },
  {
   "cell_type": "code",
   "execution_count": null,
   "id": "e9173952",
   "metadata": {},
   "outputs": [],
   "source": [
    "resolution = 26; dimension = 2\n",
    "hilbert_curve = HilbertCurve(resolution, dimension, n_procs=-1)\n",
    "\n",
    "points = df[['accel_lon','accel_trans']].to_numpy()\n",
    "\n",
    "# Generate Hilbert index\n",
    "distances = hilbert_curve.distances_from_points(points)\n",
    "\n",
    "# Add Hilbert index to 'hilbert' column\n",
    "df_hilbert = pd.concat([df, pd.DataFrame(distances, columns = ['hilbert'] )], axis=1)"
   ]
  },
  {
   "attachments": {},
   "cell_type": "markdown",
   "id": "f3426ea4",
   "metadata": {},
   "source": [
    "### Hilbert Plots"
   ]
  },
  {
   "cell_type": "code",
   "execution_count": null,
   "id": "5c2773df",
   "metadata": {},
   "outputs": [],
   "source": [
    "# 'bins' explained: https://www.metabase.com/glossary/bin\n",
    "\n",
    "# What 'bins' value is best?\n",
    "plt.hist(df_hilbert['hilbert'], bins=200)\n",
    "\n",
    "# limit y axis to 1 to show binary presence of data point\n",
    "plt.ylim(0,1)\n",
    "# limit x axis to take only \"lane change relevant\" data\n",
    "plt.xlim(9000000000,13000000000)\n",
    "\n",
    "plt.show()"
   ]
  },
  {
   "attachments": {},
   "cell_type": "markdown",
   "id": "18aaee76",
   "metadata": {},
   "source": [
    "### Scatter Plots"
   ]
  },
  {
   "cell_type": "code",
   "execution_count": null,
   "id": "3f4feb0f-a7b2-4193-8923-715da0a3b3d5",
   "metadata": {},
   "outputs": [],
   "source": [
    "# 2D-plot with timestamp as color gradient\n",
    "df.plot(kind='scatter',x='accel_lon',y='accel_trans',color=df['ts'])"
   ]
  },
  {
   "cell_type": "code",
   "execution_count": null,
   "id": "4b5800a1-036b-4233-a247-05bd3d07cf35",
   "metadata": {},
   "outputs": [],
   "source": [
    "#creating 3D-Plot\n",
    "ax = plt.axes(projection =\"3d\")\n",
    "ax.scatter3D(df['accel_lon'],df['accel_trans'],df['accel_down'], color = \"green\")"
   ]
  }
 ],
 "metadata": {
  "kernelspec": {
   "display_name": "Python 3 (ipykernel)",
   "language": "python",
   "name": "python3"
  },
  "language_info": {
   "codemirror_mode": {
    "name": "ipython",
    "version": 3
   },
   "file_extension": ".py",
   "mimetype": "text/x-python",
   "name": "python",
   "nbconvert_exporter": "python",
   "pygments_lexer": "ipython3",
   "version": "3.9.0"
  }
 },
 "nbformat": 4,
 "nbformat_minor": 5
}
