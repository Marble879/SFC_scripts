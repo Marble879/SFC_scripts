{
 "cells": [
  {
   "cell_type": "code",
   "execution_count": 12,
   "metadata": {},
   "outputs": [],
   "source": [
    "import csv\n",
    "\n",
    "# Specify the file that needs to be down-sampled\n",
    "input_file = 'data/braking_and_lanechange.csv'\n",
    "# Specify the file that will contain the ouput\n",
    "output_file = 'data/reduced_rate.csv'\n",
    "\n",
    "with open(input_file, 'r') as csv_in, open(output_file, 'w', newline='') as csv_out:\n",
    "    reader = csv.reader(csv_in)\n",
    "    writer = csv.writer(csv_out)\n",
    "    # Loop through input_file\n",
    "    for i, row in enumerate(reader):\n",
    "        # Take in consideration only even rows (reduces sampling rate by 50%)\n",
    "        # Change modulo divisor to reduce sampling differently\n",
    "        if i % 2 == 0:\n",
    "            writer.writerow(row)"
   ]
  }
 ],
 "metadata": {
  "kernelspec": {
   "display_name": "Python 3",
   "language": "python",
   "name": "python3"
  },
  "language_info": {
   "codemirror_mode": {
    "name": "ipython",
    "version": 3
   },
   "file_extension": ".py",
   "mimetype": "text/x-python",
   "name": "python",
   "nbconvert_exporter": "python",
   "pygments_lexer": "ipython3",
   "version": "3.9.0"
  },
  "orig_nbformat": 4
 },
 "nbformat": 4,
 "nbformat_minor": 2
}
